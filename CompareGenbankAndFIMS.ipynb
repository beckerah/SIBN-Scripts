{
 "cells": [
  {
   "cell_type": "markdown",
   "metadata": {},
   "source": [
    "### Compare GenBank records to the original FIMS data"
   ]
  },
  {
   "cell_type": "markdown",
   "metadata": {},
   "source": [
    "This is particularly useful for matching up accession numbers to FIMS data when working with a large dataset. (For example, when creating GS records after the fact.) "
   ]
  },
  {
   "cell_type": "code",
   "execution_count": 1,
   "metadata": {},
   "outputs": [],
   "source": [
    "import pandas as pd"
   ]
  },
  {
   "cell_type": "markdown",
   "metadata": {},
   "source": [
    "### Import each of the FIMS spreadsheets you'll be working with:"
   ]
  },
  {
   "cell_type": "code",
   "execution_count": 49,
   "metadata": {},
   "outputs": [],
   "source": [
    "fims_df = pd.read_csv('not_bruces_fish.csv')"
   ]
  },
  {
   "cell_type": "code",
   "execution_count": 50,
   "metadata": {},
   "outputs": [],
   "source": [
    "fims02_df = pd.read_excel('Proficiency_Test_02_2015.xlsx')"
   ]
  },
  {
   "cell_type": "code",
   "execution_count": 51,
   "metadata": {},
   "outputs": [],
   "source": [
    "fims03_df = pd.read_excel('Proficiency_Test_03_2015.xlsx')"
   ]
  },
  {
   "cell_type": "code",
   "execution_count": 52,
   "metadata": {},
   "outputs": [],
   "source": [
    "fims04_df = pd.read_excel('Proficiency_Test_04_2015_FISH.xlsx')"
   ]
  },
  {
   "cell_type": "markdown",
   "metadata": {},
   "source": [
    "### This will combine them all into one dataframe:"
   ]
  },
  {
   "cell_type": "code",
   "execution_count": 53,
   "metadata": {},
   "outputs": [],
   "source": [
    "fims_combined = pd.concat([fims_df,fims02_df,fims03_df,fims04_df], sort=False)\n",
    "fims_combined.info()"
   ]
  },
  {
   "cell_type": "markdown",
   "metadata": {},
   "source": [
    "### Import the data you downloaded from GenBank:"
   ]
  },
  {
   "cell_type": "code",
   "execution_count": 56,
   "metadata": {},
   "outputs": [],
   "source": [
    "gb_df = pd.read_excel('sibn_and_prof_test_animals.xlsx')\n",
    "gb_df.info()"
   ]
  },
  {
   "cell_type": "markdown",
   "metadata": {},
   "source": [
    "### This will combine the two data sets (FIMS and GenBank), merging on the specimen voucher:"
   ]
  },
  {
   "cell_type": "markdown",
   "metadata": {},
   "source": [
    "*Note: this tool is case sensitive, so if the FIMS sheet uses the collection code \"Fish\" but GenBank has it listed as \"FISH\", you'll need to convert one to match the other or they won't be combined correctly."
   ]
  },
  {
   "cell_type": "code",
   "execution_count": 71,
   "metadata": {},
   "outputs": [
    {
     "name": "stdout",
     "output_type": "stream",
     "text": [
      "<class 'pandas.core.frame.DataFrame'>\n",
      "Int64Index: 40 entries, 0 to 39\n",
      "Data columns (total 49 columns):\n",
      "Unnamed: 0           40 non-null int64\n",
      "extractionPlateID    40 non-null object\n",
      "extractionWell       40 non-null object\n",
      "extractionBarcode    40 non-null int64\n",
      "tissueID             40 non-null object\n",
      "tissueType           0 non-null float64\n",
      "voucherID            40 non-null object\n",
      "institutionCode      40 non-null object\n",
      "collectionCode       40 non-null object\n",
      "catalogNumber        40 non-null int64\n",
      "scientificName       40 non-null object\n",
      "countryOrOcean       40 non-null object\n",
      "locality             2 non-null object\n",
      "gb_locality          40 non-null object\n",
      "decimalLatitude      40 non-null float64\n",
      "decimalLongitude     40 non-null float64\n",
      "gb_latlon            40 non-null object\n",
      "yearCollected        40 non-null int64\n",
      "monthCollected       40 non-null int64\n",
      "dayCollected         40 non-null int64\n",
      "collectedBy          40 non-null object\n",
      "identifiedBy         0 non-null float64\n",
      "kingdom              40 non-null object\n",
      "phylum               40 non-null object\n",
      "class                40 non-null object\n",
      "order                40 non-null object\n",
      "family               40 non-null object\n",
      "genus                40 non-null object\n",
      "species              40 non-null object\n",
      "accession_x          0 non-null float64\n",
      "bioproject_x         0 non-null float64\n",
      "PCR_primers          40 non-null object\n",
      "accession_y          40 non-null object\n",
      "bioproject_y         0 non-null object\n",
      "collected_by         40 non-null object\n",
      "collection_date      40 non-null object\n",
      "country              40 non-null object\n",
      "keyword              40 non-null object\n",
      "lat_lon              40 non-null object\n",
      "publish_date         40 non-null object\n",
      "scientific_name      40 non-null object\n",
      "seq_len              40 non-null int64\n",
      "specimen_voucher     40 non-null object\n",
      "submit_authors       0 non-null object\n",
      "submit_date          40 non-null object\n",
      "submit_inst          40 non-null object\n",
      "taxid                40 non-null int64\n",
      "update_date          40 non-null object\n",
      "initiative           40 non-null object\n",
      "dtypes: float64(6), int64(8), object(35)\n",
      "memory usage: 15.6+ KB\n"
     ]
    }
   ],
   "source": [
    "merged_inner = pd.merge(how='inner', left=fims_df, right=gb_df, \n",
    "                        left_on='voucherID', right_on='specimen_voucher')\n",
    "merged_inner.info()"
   ]
  },
  {
   "cell_type": "markdown",
   "metadata": {},
   "source": [
    "### This will help you visualize the combined data (useful for figuring out if something went wrong in that last step):"
   ]
  },
  {
   "cell_type": "code",
   "execution_count": 72,
   "metadata": {},
   "outputs": [
    {
     "data": {
      "text/html": [
       "<div>\n",
       "<style scoped>\n",
       "    .dataframe tbody tr th:only-of-type {\n",
       "        vertical-align: middle;\n",
       "    }\n",
       "\n",
       "    .dataframe tbody tr th {\n",
       "        vertical-align: top;\n",
       "    }\n",
       "\n",
       "    .dataframe thead th {\n",
       "        text-align: right;\n",
       "    }\n",
       "</style>\n",
       "<table border=\"1\" class=\"dataframe\">\n",
       "  <thead>\n",
       "    <tr style=\"text-align: right;\">\n",
       "      <th></th>\n",
       "      <th>Unnamed: 0</th>\n",
       "      <th>extractionPlateID</th>\n",
       "      <th>extractionWell</th>\n",
       "      <th>extractionBarcode</th>\n",
       "      <th>tissueID</th>\n",
       "      <th>tissueType</th>\n",
       "      <th>voucherID</th>\n",
       "      <th>institutionCode</th>\n",
       "      <th>collectionCode</th>\n",
       "      <th>catalogNumber</th>\n",
       "      <th>...</th>\n",
       "      <th>publish_date</th>\n",
       "      <th>scientific_name</th>\n",
       "      <th>seq_len</th>\n",
       "      <th>specimen_voucher</th>\n",
       "      <th>submit_authors</th>\n",
       "      <th>submit_date</th>\n",
       "      <th>submit_inst</th>\n",
       "      <th>taxid</th>\n",
       "      <th>update_date</th>\n",
       "      <th>initiative</th>\n",
       "    </tr>\n",
       "  </thead>\n",
       "  <tbody>\n",
       "    <tr>\n",
       "      <th>0</th>\n",
       "      <td>0</td>\n",
       "      <td>Proficiency_Test_01</td>\n",
       "      <td>H01</td>\n",
       "      <td>184612800</td>\n",
       "      <td>AB4OO35</td>\n",
       "      <td>NaN</td>\n",
       "      <td>USNM:FISH:433057</td>\n",
       "      <td>USNM</td>\n",
       "      <td>Fish</td>\n",
       "      <td>433057</td>\n",
       "      <td>...</td>\n",
       "      <td>12-JUN-2015</td>\n",
       "      <td>Selar crumenophthalmus</td>\n",
       "      <td>632</td>\n",
       "      <td>USNM:FISH:433057</td>\n",
       "      <td>NaN</td>\n",
       "      <td>11-JUN-2015</td>\n",
       "      <td>CBOL, Smithsonian, 10th and Constitution Ave ...</td>\n",
       "      <td>146146</td>\n",
       "      <td>12-JUN-2015</td>\n",
       "      <td>SIBN</td>\n",
       "    </tr>\n",
       "    <tr>\n",
       "      <th>1</th>\n",
       "      <td>1</td>\n",
       "      <td>Proficiency_Test_01</td>\n",
       "      <td>H02</td>\n",
       "      <td>184612801</td>\n",
       "      <td>AB4OO59</td>\n",
       "      <td>NaN</td>\n",
       "      <td>USNM:FISH:433065</td>\n",
       "      <td>USNM</td>\n",
       "      <td>Fish</td>\n",
       "      <td>433065</td>\n",
       "      <td>...</td>\n",
       "      <td>12-JUN-2015</td>\n",
       "      <td>Zenopsis conchifer</td>\n",
       "      <td>655</td>\n",
       "      <td>USNM:FISH:433065</td>\n",
       "      <td>NaN</td>\n",
       "      <td>11-JUN-2015</td>\n",
       "      <td>CBOL, Smithsonian, 10th and Constitution Ave ...</td>\n",
       "      <td>245696</td>\n",
       "      <td>12-JUN-2015</td>\n",
       "      <td>SIBN</td>\n",
       "    </tr>\n",
       "    <tr>\n",
       "      <th>2</th>\n",
       "      <td>3</td>\n",
       "      <td>Proficiency_Test_01</td>\n",
       "      <td>H04</td>\n",
       "      <td>184612803</td>\n",
       "      <td>AB4OP07</td>\n",
       "      <td>NaN</td>\n",
       "      <td>USNM:FISH:433081</td>\n",
       "      <td>USNM</td>\n",
       "      <td>Fish</td>\n",
       "      <td>433081</td>\n",
       "      <td>...</td>\n",
       "      <td>12-JUN-2015</td>\n",
       "      <td>Lophius americanus</td>\n",
       "      <td>655</td>\n",
       "      <td>USNM:FISH:433081</td>\n",
       "      <td>NaN</td>\n",
       "      <td>11-JUN-2015</td>\n",
       "      <td>CBOL, Smithsonian, 10th and Constitution Ave ...</td>\n",
       "      <td>8073</td>\n",
       "      <td>12-JUN-2015</td>\n",
       "      <td>SIBN</td>\n",
       "    </tr>\n",
       "    <tr>\n",
       "      <th>3</th>\n",
       "      <td>4</td>\n",
       "      <td>Proficiency_Test_01</td>\n",
       "      <td>H05</td>\n",
       "      <td>184612804</td>\n",
       "      <td>AB4OP31</td>\n",
       "      <td>NaN</td>\n",
       "      <td>USNM:FISH:433089</td>\n",
       "      <td>USNM</td>\n",
       "      <td>Fish</td>\n",
       "      <td>433089</td>\n",
       "      <td>...</td>\n",
       "      <td>12-JUN-2015</td>\n",
       "      <td>Squalus acanthias</td>\n",
       "      <td>618</td>\n",
       "      <td>USNM:FISH:433089</td>\n",
       "      <td>NaN</td>\n",
       "      <td>11-JUN-2015</td>\n",
       "      <td>CBOL, Smithsonian, 10th and Constitution Ave ...</td>\n",
       "      <td>7797</td>\n",
       "      <td>12-JUN-2015</td>\n",
       "      <td>SIBN</td>\n",
       "    </tr>\n",
       "    <tr>\n",
       "      <th>4</th>\n",
       "      <td>17</td>\n",
       "      <td>Proficiency_Test_01</td>\n",
       "      <td>G05</td>\n",
       "      <td>184612819</td>\n",
       "      <td>AB4OP28</td>\n",
       "      <td>NaN</td>\n",
       "      <td>USNM:FISH:433088</td>\n",
       "      <td>USNM</td>\n",
       "      <td>Fish</td>\n",
       "      <td>433088</td>\n",
       "      <td>...</td>\n",
       "      <td>12-JUN-2015</td>\n",
       "      <td>Mustelus canis canis</td>\n",
       "      <td>655</td>\n",
       "      <td>USNM:FISH:433088</td>\n",
       "      <td>NaN</td>\n",
       "      <td>11-JUN-2015</td>\n",
       "      <td>CBOL, Smithsonian, 10th and Constitution Ave ...</td>\n",
       "      <td>1664675</td>\n",
       "      <td>12-JUN-2015</td>\n",
       "      <td>SIBN</td>\n",
       "    </tr>\n",
       "  </tbody>\n",
       "</table>\n",
       "<p>5 rows × 49 columns</p>\n",
       "</div>"
      ],
      "text/plain": [
       "   Unnamed: 0    extractionPlateID extractionWell  extractionBarcode tissueID  \\\n",
       "0           0  Proficiency_Test_01            H01          184612800  AB4OO35   \n",
       "1           1  Proficiency_Test_01            H02          184612801  AB4OO59   \n",
       "2           3  Proficiency_Test_01            H04          184612803  AB4OP07   \n",
       "3           4  Proficiency_Test_01            H05          184612804  AB4OP31   \n",
       "4          17  Proficiency_Test_01            G05          184612819  AB4OP28   \n",
       "\n",
       "   tissueType         voucherID institutionCode collectionCode  catalogNumber  \\\n",
       "0         NaN  USNM:FISH:433057            USNM           Fish         433057   \n",
       "1         NaN  USNM:FISH:433065            USNM           Fish         433065   \n",
       "2         NaN  USNM:FISH:433081            USNM           Fish         433081   \n",
       "3         NaN  USNM:FISH:433089            USNM           Fish         433089   \n",
       "4         NaN  USNM:FISH:433088            USNM           Fish         433088   \n",
       "\n",
       "      ...     publish_date         scientific_name seq_len  specimen_voucher  \\\n",
       "0     ...      12-JUN-2015  Selar crumenophthalmus     632  USNM:FISH:433057   \n",
       "1     ...      12-JUN-2015      Zenopsis conchifer     655  USNM:FISH:433065   \n",
       "2     ...      12-JUN-2015      Lophius americanus     655  USNM:FISH:433081   \n",
       "3     ...      12-JUN-2015       Squalus acanthias     618  USNM:FISH:433089   \n",
       "4     ...      12-JUN-2015    Mustelus canis canis     655  USNM:FISH:433088   \n",
       "\n",
       "   submit_authors  submit_date  \\\n",
       "0             NaN  11-JUN-2015   \n",
       "1             NaN  11-JUN-2015   \n",
       "2             NaN  11-JUN-2015   \n",
       "3             NaN  11-JUN-2015   \n",
       "4             NaN  11-JUN-2015   \n",
       "\n",
       "                                         submit_inst    taxid  update_date  \\\n",
       "0   CBOL, Smithsonian, 10th and Constitution Ave ...   146146  12-JUN-2015   \n",
       "1   CBOL, Smithsonian, 10th and Constitution Ave ...   245696  12-JUN-2015   \n",
       "2   CBOL, Smithsonian, 10th and Constitution Ave ...     8073  12-JUN-2015   \n",
       "3   CBOL, Smithsonian, 10th and Constitution Ave ...     7797  12-JUN-2015   \n",
       "4   CBOL, Smithsonian, 10th and Constitution Ave ...  1664675  12-JUN-2015   \n",
       "\n",
       "   initiative  \n",
       "0        SIBN  \n",
       "1        SIBN  \n",
       "2        SIBN  \n",
       "3        SIBN  \n",
       "4        SIBN  \n",
       "\n",
       "[5 rows x 49 columns]"
      ]
     },
     "execution_count": 72,
     "metadata": {},
     "output_type": "execute_result"
    }
   ],
   "source": [
    "merged_inner.head()"
   ]
  },
  {
   "cell_type": "markdown",
   "metadata": {},
   "source": [
    "### This will save only the columns we want to keep. You might want to tweak the included data to suit your needs:"
   ]
  },
  {
   "cell_type": "code",
   "execution_count": null,
   "metadata": {},
   "outputs": [],
   "source": [
    "final_df = merged_inner[['extractionPlateID','extractionWell','extractionBarcode','tissueID','voucherID','catalogNumber','genus','species','accession','collectedBy']]"
   ]
  },
  {
   "cell_type": "markdown",
   "metadata": {},
   "source": [
    "### This will give you a sample of how your final data will look:"
   ]
  },
  {
   "cell_type": "code",
   "execution_count": 75,
   "metadata": {},
   "outputs": [
    {
     "data": {
      "text/html": [
       "<div>\n",
       "<style scoped>\n",
       "    .dataframe tbody tr th:only-of-type {\n",
       "        vertical-align: middle;\n",
       "    }\n",
       "\n",
       "    .dataframe tbody tr th {\n",
       "        vertical-align: top;\n",
       "    }\n",
       "\n",
       "    .dataframe thead th {\n",
       "        text-align: right;\n",
       "    }\n",
       "</style>\n",
       "<table border=\"1\" class=\"dataframe\">\n",
       "  <thead>\n",
       "    <tr style=\"text-align: right;\">\n",
       "      <th></th>\n",
       "      <th>extractionPlateID</th>\n",
       "      <th>extractionWell</th>\n",
       "      <th>extractionBarcode</th>\n",
       "      <th>tissueID</th>\n",
       "      <th>voucherID</th>\n",
       "      <th>catalogNumber</th>\n",
       "      <th>genus</th>\n",
       "      <th>species</th>\n",
       "      <th>accession_y</th>\n",
       "      <th>collectedBy</th>\n",
       "    </tr>\n",
       "  </thead>\n",
       "  <tbody>\n",
       "    <tr>\n",
       "      <th>0</th>\n",
       "      <td>Proficiency_Test_01</td>\n",
       "      <td>H01</td>\n",
       "      <td>184612800</td>\n",
       "      <td>AB4OO35</td>\n",
       "      <td>USNM:FISH:433057</td>\n",
       "      <td>433057</td>\n",
       "      <td>Selar</td>\n",
       "      <td>crumenophthalmus</td>\n",
       "      <td>KT075293</td>\n",
       "      <td>Northeast Fisheries Science Center (NEFSC), Wo...</td>\n",
       "    </tr>\n",
       "    <tr>\n",
       "      <th>1</th>\n",
       "      <td>Proficiency_Test_01</td>\n",
       "      <td>H02</td>\n",
       "      <td>184612801</td>\n",
       "      <td>AB4OO59</td>\n",
       "      <td>USNM:FISH:433065</td>\n",
       "      <td>433065</td>\n",
       "      <td>Zenopsis</td>\n",
       "      <td>conchifer</td>\n",
       "      <td>KT075300</td>\n",
       "      <td>Northeast Fisheries Science Center (NEFSC), Wo...</td>\n",
       "    </tr>\n",
       "    <tr>\n",
       "      <th>2</th>\n",
       "      <td>Proficiency_Test_01</td>\n",
       "      <td>H04</td>\n",
       "      <td>184612803</td>\n",
       "      <td>AB4OP07</td>\n",
       "      <td>USNM:FISH:433081</td>\n",
       "      <td>433081</td>\n",
       "      <td>Lophius</td>\n",
       "      <td>americanus</td>\n",
       "      <td>KT075310</td>\n",
       "      <td>Northeast Fisheries Science Center (NEFSC), Wo...</td>\n",
       "    </tr>\n",
       "    <tr>\n",
       "      <th>3</th>\n",
       "      <td>Proficiency_Test_01</td>\n",
       "      <td>H05</td>\n",
       "      <td>184612804</td>\n",
       "      <td>AB4OP31</td>\n",
       "      <td>USNM:FISH:433089</td>\n",
       "      <td>433089</td>\n",
       "      <td>Squalus</td>\n",
       "      <td>acanthias</td>\n",
       "      <td>KT075317</td>\n",
       "      <td>Northeast Fisheries Science Center (NEFSC), Wo...</td>\n",
       "    </tr>\n",
       "    <tr>\n",
       "      <th>4</th>\n",
       "      <td>Proficiency_Test_01</td>\n",
       "      <td>G05</td>\n",
       "      <td>184612819</td>\n",
       "      <td>AB4OP28</td>\n",
       "      <td>USNM:FISH:433088</td>\n",
       "      <td>433088</td>\n",
       "      <td>Mustelus</td>\n",
       "      <td>canis</td>\n",
       "      <td>KT075316</td>\n",
       "      <td>Northeast Fisheries Science Center (NEFSC), Wo...</td>\n",
       "    </tr>\n",
       "  </tbody>\n",
       "</table>\n",
       "</div>"
      ],
      "text/plain": [
       "     extractionPlateID extractionWell  extractionBarcode tissueID  \\\n",
       "0  Proficiency_Test_01            H01          184612800  AB4OO35   \n",
       "1  Proficiency_Test_01            H02          184612801  AB4OO59   \n",
       "2  Proficiency_Test_01            H04          184612803  AB4OP07   \n",
       "3  Proficiency_Test_01            H05          184612804  AB4OP31   \n",
       "4  Proficiency_Test_01            G05          184612819  AB4OP28   \n",
       "\n",
       "          voucherID  catalogNumber     genus           species accession_y  \\\n",
       "0  USNM:FISH:433057         433057     Selar  crumenophthalmus    KT075293   \n",
       "1  USNM:FISH:433065         433065  Zenopsis         conchifer    KT075300   \n",
       "2  USNM:FISH:433081         433081   Lophius        americanus    KT075310   \n",
       "3  USNM:FISH:433089         433089   Squalus         acanthias    KT075317   \n",
       "4  USNM:FISH:433088         433088  Mustelus             canis    KT075316   \n",
       "\n",
       "                                         collectedBy  \n",
       "0  Northeast Fisheries Science Center (NEFSC), Wo...  \n",
       "1  Northeast Fisheries Science Center (NEFSC), Wo...  \n",
       "2  Northeast Fisheries Science Center (NEFSC), Wo...  \n",
       "3  Northeast Fisheries Science Center (NEFSC), Wo...  \n",
       "4  Northeast Fisheries Science Center (NEFSC), Wo...  "
      ]
     },
     "execution_count": 75,
     "metadata": {},
     "output_type": "execute_result"
    }
   ],
   "source": [
    "final_df.head()"
   ]
  },
  {
   "cell_type": "markdown",
   "metadata": {},
   "source": [
    "### Save the data to a CSV file: (Remember to name it something useful)"
   ]
  },
  {
   "cell_type": "code",
   "execution_count": 76,
   "metadata": {},
   "outputs": [],
   "source": [
    "final_df.to_csv('FIMS_and_GB_Fish_NotBruces.csv')"
   ]
  },
  {
   "cell_type": "code",
   "execution_count": null,
   "metadata": {},
   "outputs": [],
   "source": []
  },
  {
   "cell_type": "code",
   "execution_count": null,
   "metadata": {},
   "outputs": [],
   "source": []
  }
 ],
 "metadata": {
  "kernelspec": {
   "display_name": "Python 3",
   "language": "python",
   "name": "python3"
  },
  "language_info": {
   "codemirror_mode": {
    "name": "ipython",
    "version": 3
   },
   "file_extension": ".py",
   "mimetype": "text/x-python",
   "name": "python",
   "nbconvert_exporter": "python",
   "pygments_lexer": "ipython3",
   "version": "3.7.4"
  }
 },
 "nbformat": 4,
 "nbformat_minor": 2
}
