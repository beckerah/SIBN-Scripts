{
 "cells": [
  {
   "cell_type": "markdown",
   "metadata": {},
   "source": [
    "Need the script to take a folder of files (in a particular location) and to copy them to a new location, but rename them using the current/new names that are included in our .csv file.\n"
   ]
  },
  {
   "cell_type": "code",
   "execution_count": 6,
   "metadata": {
    "collapsed": true
   },
   "outputs": [],
   "source": [
    "import pandas as pd"
   ]
  },
  {
   "cell_type": "code",
   "execution_count": 11,
   "metadata": {
    "collapsed": true
   },
   "outputs": [],
   "source": [
    "import os"
   ]
  },
  {
   "cell_type": "markdown",
   "metadata": {},
   "source": [
    "pahlib is used to manage directories"
   ]
  },
  {
   "cell_type": "code",
   "execution_count": 7,
   "metadata": {
    "collapsed": true
   },
   "outputs": [],
   "source": [
    "import pathlib"
   ]
  },
  {
   "cell_type": "code",
   "execution_count": 8,
   "metadata": {
    "collapsed": true
   },
   "outputs": [],
   "source": [
    "from pathlib import Path"
   ]
  },
  {
   "cell_type": "markdown",
   "metadata": {},
   "source": [
    "import the python library that contains the copy function...."
   ]
  },
  {
   "cell_type": "code",
   "execution_count": 23,
   "metadata": {
    "collapsed": true
   },
   "outputs": [],
   "source": [
    "import shutil"
   ]
  },
  {
   "cell_type": "markdown",
   "metadata": {},
   "source": [
    "I need to define the path for my files.\n",
    "Folder Renaming is on the Desktop\n",
    "Folders of traces are inside Renamding\n",
    "CSVs are inside RENAMING\n",
    "    Desktop/RENAMING/14230_P02_BCH\n",
    "    Desktop/RENAMING/14234_P04_BCH\n",
    "    \n",
    "\n",
    "    p = Path('.')"
   ]
  },
  {
   "cell_type": "markdown",
   "metadata": {},
   "source": [
    "for renaming files:\n",
    "    os.rename(src, dst)\n",
    "    src: Source is the name of the file or directory. It should must already exist.\n",
    "    dst: Destination is the new name of the file or directory you want to change. "
   ]
  },
  {
   "cell_type": "code",
   "execution_count": 12,
   "metadata": {
    "collapsed": true
   },
   "outputs": [],
   "source": [
    "basefolder = Path('/Users/niamhredmond/Desktop/RENAMING/')"
   ]
  },
  {
   "cell_type": "markdown",
   "metadata": {},
   "source": [
    "Need to read in the csv file, and we can also define it in this step too...."
   ]
  },
  {
   "cell_type": "code",
   "execution_count": 13,
   "metadata": {
    "collapsed": true
   },
   "outputs": [],
   "source": [
    "P02 = pd.read_csv (basefolder/'P02_BCH_rename.csv')"
   ]
  },
  {
   "cell_type": "code",
   "execution_count": 14,
   "metadata": {},
   "outputs": [
    {
     "data": {
      "text/html": [
       "<div>\n",
       "<style scoped>\n",
       "    .dataframe tbody tr th:only-of-type {\n",
       "        vertical-align: middle;\n",
       "    }\n",
       "\n",
       "    .dataframe tbody tr th {\n",
       "        vertical-align: top;\n",
       "    }\n",
       "\n",
       "    .dataframe thead th {\n",
       "        text-align: right;\n",
       "    }\n",
       "</style>\n",
       "<table border=\"1\" class=\"dataframe\">\n",
       "  <thead>\n",
       "    <tr style=\"text-align: right;\">\n",
       "      <th></th>\n",
       "      <th>Old Name;New Name</th>\n",
       "    </tr>\n",
       "  </thead>\n",
       "  <tbody>\n",
       "    <tr>\n",
       "      <th>0</th>\n",
       "      <td>A01_SURFISH_P02_AL0GI23_Fish-BCH.ab1;H12_SURFI...</td>\n",
       "    </tr>\n",
       "    <tr>\n",
       "      <th>1</th>\n",
       "      <td>A02_SURFISH_P02_AL0GI30_Fish-BCH.ab1;H11_SURFI...</td>\n",
       "    </tr>\n",
       "    <tr>\n",
       "      <th>2</th>\n",
       "      <td>A03_SURFISH_P02_AL0GI05_Fish-BCH.ab1;H10_SURFI...</td>\n",
       "    </tr>\n",
       "    <tr>\n",
       "      <th>3</th>\n",
       "      <td>A04_SURFISH_P02_AL0GH88_Fish-BCH.ab1;H09_SURFI...</td>\n",
       "    </tr>\n",
       "    <tr>\n",
       "      <th>4</th>\n",
       "      <td>A05_SURFISH_P02_AL0GI37_Fish-BCH.ab1;H08_SURFI...</td>\n",
       "    </tr>\n",
       "    <tr>\n",
       "      <th>5</th>\n",
       "      <td>A06_SURFISH_P02_AL0GI56_Fish-BCH.ab1;H07_SURFI...</td>\n",
       "    </tr>\n",
       "    <tr>\n",
       "      <th>6</th>\n",
       "      <td>A07_SURFISH_P02_AL0GH83_Fish-BCH.ab1;H06_SURFI...</td>\n",
       "    </tr>\n",
       "    <tr>\n",
       "      <th>7</th>\n",
       "      <td>A08_SURFISH_P02_AL0GI13_Fish-BCH.ab1;H05_SURFI...</td>\n",
       "    </tr>\n",
       "    <tr>\n",
       "      <th>8</th>\n",
       "      <td>A09_SURFISH_P02_AL0GI49_Fish-BCH.ab1;H04_SURFI...</td>\n",
       "    </tr>\n",
       "    <tr>\n",
       "      <th>9</th>\n",
       "      <td>A10_SURFISH_P02_AL0GJ38_Fish-BCH.ab1;H03_SURFI...</td>\n",
       "    </tr>\n",
       "  </tbody>\n",
       "</table>\n",
       "</div>"
      ],
      "text/plain": [
       "                                   Old Name;New Name\n",
       "0  A01_SURFISH_P02_AL0GI23_Fish-BCH.ab1;H12_SURFI...\n",
       "1  A02_SURFISH_P02_AL0GI30_Fish-BCH.ab1;H11_SURFI...\n",
       "2  A03_SURFISH_P02_AL0GI05_Fish-BCH.ab1;H10_SURFI...\n",
       "3  A04_SURFISH_P02_AL0GH88_Fish-BCH.ab1;H09_SURFI...\n",
       "4  A05_SURFISH_P02_AL0GI37_Fish-BCH.ab1;H08_SURFI...\n",
       "5  A06_SURFISH_P02_AL0GI56_Fish-BCH.ab1;H07_SURFI...\n",
       "6  A07_SURFISH_P02_AL0GH83_Fish-BCH.ab1;H06_SURFI...\n",
       "7  A08_SURFISH_P02_AL0GI13_Fish-BCH.ab1;H05_SURFI...\n",
       "8  A09_SURFISH_P02_AL0GI49_Fish-BCH.ab1;H04_SURFI...\n",
       "9  A10_SURFISH_P02_AL0GJ38_Fish-BCH.ab1;H03_SURFI..."
      ]
     },
     "execution_count": 14,
     "metadata": {},
     "output_type": "execute_result"
    }
   ],
   "source": [
    "P02.head(10)"
   ]
  },
  {
   "cell_type": "markdown",
   "metadata": {},
   "source": [
    "Weird that this has semi colons, good thing we read it out to check! Need to modify our read-in/defn command"
   ]
  },
  {
   "cell_type": "code",
   "execution_count": 16,
   "metadata": {},
   "outputs": [
    {
     "data": {
      "text/html": [
       "<div>\n",
       "<style scoped>\n",
       "    .dataframe tbody tr th:only-of-type {\n",
       "        vertical-align: middle;\n",
       "    }\n",
       "\n",
       "    .dataframe tbody tr th {\n",
       "        vertical-align: top;\n",
       "    }\n",
       "\n",
       "    .dataframe thead th {\n",
       "        text-align: right;\n",
       "    }\n",
       "</style>\n",
       "<table border=\"1\" class=\"dataframe\">\n",
       "  <thead>\n",
       "    <tr style=\"text-align: right;\">\n",
       "      <th></th>\n",
       "      <th>Old Name</th>\n",
       "      <th>New Name</th>\n",
       "    </tr>\n",
       "  </thead>\n",
       "  <tbody>\n",
       "    <tr>\n",
       "      <th>0</th>\n",
       "      <td>A01_SURFISH_P02_AL0GI23_Fish-BCH.ab1</td>\n",
       "      <td>H12_SURFISH_P02_UNUSED_Fish-BCH.ab1</td>\n",
       "    </tr>\n",
       "    <tr>\n",
       "      <th>1</th>\n",
       "      <td>A02_SURFISH_P02_AL0GI30_Fish-BCH.ab1</td>\n",
       "      <td>H11_SURFISH_P02_AL0GI99_Fish-BCH.ab1</td>\n",
       "    </tr>\n",
       "    <tr>\n",
       "      <th>2</th>\n",
       "      <td>A03_SURFISH_P02_AL0GI05_Fish-BCH.ab1</td>\n",
       "      <td>H10_SURFISH_P02_AL0GJ35_Fish-BCH.ab1</td>\n",
       "    </tr>\n",
       "    <tr>\n",
       "      <th>3</th>\n",
       "      <td>A04_SURFISH_P02_AL0GH88_Fish-BCH.ab1</td>\n",
       "      <td>H09_SURFISH_P02_AL0GJ23_Fish-BCH.ab1</td>\n",
       "    </tr>\n",
       "    <tr>\n",
       "      <th>4</th>\n",
       "      <td>A05_SURFISH_P02_AL0GI37_Fish-BCH.ab1</td>\n",
       "      <td>H08_SURFISH_P02_AL0GI17_Fish-BCH.ab1</td>\n",
       "    </tr>\n",
       "  </tbody>\n",
       "</table>\n",
       "</div>"
      ],
      "text/plain": [
       "                               Old Name                              New Name\n",
       "0  A01_SURFISH_P02_AL0GI23_Fish-BCH.ab1   H12_SURFISH_P02_UNUSED_Fish-BCH.ab1\n",
       "1  A02_SURFISH_P02_AL0GI30_Fish-BCH.ab1  H11_SURFISH_P02_AL0GI99_Fish-BCH.ab1\n",
       "2  A03_SURFISH_P02_AL0GI05_Fish-BCH.ab1  H10_SURFISH_P02_AL0GJ35_Fish-BCH.ab1\n",
       "3  A04_SURFISH_P02_AL0GH88_Fish-BCH.ab1  H09_SURFISH_P02_AL0GJ23_Fish-BCH.ab1\n",
       "4  A05_SURFISH_P02_AL0GI37_Fish-BCH.ab1  H08_SURFISH_P02_AL0GI17_Fish-BCH.ab1"
      ]
     },
     "execution_count": 16,
     "metadata": {},
     "output_type": "execute_result"
    }
   ],
   "source": [
    "P02 = pd.read_csv (basefolder/'P02_BCH_rename.csv',sep=';')\n",
    "P02.head()"
   ]
  },
  {
   "cell_type": "code",
   "execution_count": 17,
   "metadata": {
    "collapsed": true
   },
   "outputs": [],
   "source": [
    "oldP02files = basefolder/'14230_P02_BCH'"
   ]
  },
  {
   "cell_type": "markdown",
   "metadata": {},
   "source": [
    "Need to create the new folder which will contain the correctly labelled traces"
   ]
  },
  {
   "cell_type": "code",
   "execution_count": 18,
   "metadata": {
    "collapsed": true
   },
   "outputs": [],
   "source": [
    "newP02files = basefolder/'14230_P02_BCH_corrected'\n",
    "os.mkdir(newP02files)"
   ]
  },
  {
   "cell_type": "code",
   "execution_count": 22,
   "metadata": {},
   "outputs": [
    {
     "name": "stdout",
     "output_type": "stream",
     "text": [
      "A01_SURFISH_P02_AL0GI23_Fish-BCH.ab1 H12_SURFISH_P02_UNUSED_Fish-BCH.ab1\n",
      "A02_SURFISH_P02_AL0GI30_Fish-BCH.ab1 H11_SURFISH_P02_AL0GI99_Fish-BCH.ab1\n",
      "A03_SURFISH_P02_AL0GI05_Fish-BCH.ab1 H10_SURFISH_P02_AL0GJ35_Fish-BCH.ab1\n",
      "A04_SURFISH_P02_AL0GH88_Fish-BCH.ab1 H09_SURFISH_P02_AL0GJ23_Fish-BCH.ab1\n",
      "A05_SURFISH_P02_AL0GI37_Fish-BCH.ab1 H08_SURFISH_P02_AL0GI17_Fish-BCH.ab1\n",
      "A06_SURFISH_P02_AL0GI56_Fish-BCH.ab1 H07_SURFISH_P02_AL0GI02_Fish-BCH.ab1\n",
      "A07_SURFISH_P02_AL0GH83_Fish-BCH.ab1 H06_SURFISH_P02_AL0GI31_Fish-BCH.ab1\n",
      "A08_SURFISH_P02_AL0GI13_Fish-BCH.ab1 H05_SURFISH_P02_AL0GI41_Fish-BCH.ab1\n",
      "A09_SURFISH_P02_AL0GI49_Fish-BCH.ab1 H04_SURFISH_P02_AL0GI43_Fish-BCH.ab1\n",
      "A10_SURFISH_P02_AL0GJ38_Fish-BCH.ab1 H03_SURFISH_P02_AL0GI50_Fish-BCH.ab1\n",
      "A11_SURFISH_P02_AL0GJ12_Fish-BCH.ab1 H02_SURFISH_P02_AL0GI11_Fish-BCH.ab1\n",
      "A12_SURFISH_P02_AL0GJ33_Fish-BCH.ab1 H01_SURFISH_P02_AL0GI55_Fish-BCH.ab1\n",
      "B01_SURFISH_P02_AL0GI07_Fish-BCH.ab1 G12_SURFISH_P02_UNUSED_Fish-BCH.ab1\n",
      "B02_SURFISH_P02_AL0GI39_Fish-BCH.ab1 G11_SURFISH_P02_AL0GI96_Fish-BCH.ab1\n",
      "B03_SURFISH_P02_AL0GI20_Fish-BCH.ab1 G10_SURFISH_P02_AL0GJ08_Fish-BCH.ab1\n",
      "B04_SURFISH_P02_AL0GI58_Fish-BCH.ab1 G09_SURFISH_P02_AL0GJ16_Fish-BCH.ab1\n",
      "B05_SURFISH_P02_AL0GI29_Fish-BCH.ab1 G08_SURFISH_P02_AL0GI10_Fish-BCH.ab1\n",
      "B06_SURFISH_P02_AL0GI52_Fish-BCH.ab1 G07_SURFISH_P02_AL0GI06_Fish-BCH.ab1\n",
      "B07_SURFISH_P02_AL0GI40_Fish-BCH.ab1 G06_SURFISH_P02_AL0GI42_Fish-BCH.ab1\n",
      "B08_SURFISH_P02_AL0GI53_Fish-BCH.ab1 G05_SURFISH_P02_AL0GI12_Fish-BCH.ab1\n",
      "B09_SURFISH_P02_AL0GI00_Fish-BCH.ab1 G04_SURFISH_P02_AL0GH89_Fish-BCH.ab1\n",
      "B10_SURFISH_P02_AL0GI88_Fish-BCH.ab1 G03_SURFISH_P02_AL0GH87_Fish-BCH.ab1\n",
      "B11_SURFISH_P02_AL0GJ43_Fish-BCH.ab1 G02_SURFISH_P02_AL0GI57_Fish-BCH.ab1\n",
      "B12_SURFISH_P02_AL0GI70_Fish-BCH.ab1 G01_SURFISH_P02_AL0GI15_Fish-BCH.ab1\n",
      "C01_SURFISH_P02_AL0GH86_Fish-BCH.ab1 F12_SURFISH_P02_AL0GJ34_Fish-BCH.ab1\n",
      "C02_SURFISH_P02_AL0GH94_Fish-BCH.ab1 F11_SURFISH_P02_AL0GI80_Fish-BCH.ab1\n",
      "C03_SURFISH_P02_AL0GH92_Fish-BCH.ab1 F10_SURFISH_P02_AL0GJ24_Fish-BCH.ab1\n",
      "C04_SURFISH_P02_AL0GH99_Fish-BCH.ab1 F09_SURFISH_P02_AL0GJ14_Fish-BCH.ab1\n",
      "C05_SURFISH_P02_AL0GI28_Fish-BCH.ab1 F08_SURFISH_P02_AL0GH85_Fish-BCH.ab1\n",
      "C06_SURFISH_P02_AL0GH91_Fish-BCH.ab1 F07_SURFISH_P02_AL0GI46_Fish-BCH.ab1\n",
      "C07_SURFISH_P02_AL0GI24_Fish-BCH.ab1 F06_SURFISH_P02_AL0GI03_Fish-BCH.ab1\n",
      "C08_SURFISH_P02_AL0GI22_Fish-BCH.ab1 F05_SURFISH_P02_AL0GH93_Fish-BCH.ab1\n",
      "C09_SURFISH_P02_AL0GI21_Fish-BCH.ab1 F04_SURFISH_P02_AL0GI44_Fish-BCH.ab1\n",
      "C10_SURFISH_P02_AL0GI81_Fish-BCH.ab1 F03_SURFISH_P02_AL0GI35_Fish-BCH.ab1\n",
      "C11_SURFISH_P02_AL0GJ32_Fish-BCH.ab1 F02_SURFISH_P02_AL0GI16_Fish-BCH.ab1\n",
      "C12_SURFISH_P02_AL0GI89_Fish-BCH.ab1 F01_SURFISH_P02_AL0GH84_Fish-BCH.ab1\n",
      "D01_SURFISH_P02_AL0GI54_Fish-BCH.ab1 E12_SURFISH_P02_AL0GJ05_Fish-BCH.ab1\n",
      "D02_SURFISH_P02_AL0GI60_Fish-BCH.ab1 E11_SURFISH_P02_AL0GJ10_Fish-BCH.ab1\n",
      "D03_SURFISH_P02_AL0GI04_Fish-BCH.ab1 E10_SURFISH_P02_AL0GI69_Fish-BCH.ab1\n",
      "D04_SURFISH_P02_AL0GI32_Fish-BCH.ab1 E09_SURFISH_P02_AL0GJ13_Fish-BCH.ab1\n",
      "D05_SURFISH_P02_AL0GH90_Fish-BCH.ab1 E08_SURFISH_P02_AL0GI45_Fish-BCH.ab1\n",
      "D06_SURFISH_P02_AL0GI33_Fish-BCH.ab1 E07_SURFISH_P02_AL0GI26_Fish-BCH.ab1\n",
      "D07_SURFISH_P02_AL0GH95_Fish-BCH.ab1 E06_SURFISH_P02_AL0GI47_Fish-BCH.ab1\n",
      "D08_SURFISH_P02_AL0GI59_Fish-BCH.ab1 E05_SURFISH_P02_AL0GI14_Fish-BCH.ab1\n",
      "D09_SURFISH_P02_AL0GI08_Fish-BCH.ab1 E04_SURFISH_P02_AL0GI51_Fish-BCH.ab1\n",
      "D10_SURFISH_P02_AL0GI97_Fish-BCH.ab1 E03_SURFISH_P02_AL0GI25_Fish-BCH.ab1\n",
      "D11_SURFISH_P02_AL0GJ04_Fish-BCH.ab1 E02_SURFISH_P02_AL0GH97_Fish-BCH.ab1\n",
      "D12_SURFISH_P02_AL0GJ42_Fish-BCH.ab1 E01_SURFISH_P02_AL0GI62_Fish-BCH.ab1\n",
      "E01_SURFISH_P02_AL0GI62_Fish-BCH.ab1 D12_SURFISH_P02_AL0GJ42_Fish-BCH.ab1\n",
      "E02_SURFISH_P02_AL0GH97_Fish-BCH.ab1 D11_SURFISH_P02_AL0GJ04_Fish-BCH.ab1\n",
      "E03_SURFISH_P02_AL0GI25_Fish-BCH.ab1 D10_SURFISH_P02_AL0GI97_Fish-BCH.ab1\n",
      "E04_SURFISH_P02_AL0GI51_Fish-BCH.ab1 D09_SURFISH_P02_AL0GI08_Fish-BCH.ab1\n",
      "E05_SURFISH_P02_AL0GI14_Fish-BCH.ab1 D08_SURFISH_P02_AL0GI59_Fish-BCH.ab1\n",
      "E06_SURFISH_P02_AL0GI47_Fish-BCH.ab1 D07_SURFISH_P02_AL0GH95_Fish-BCH.ab1\n",
      "E07_SURFISH_P02_AL0GI26_Fish-BCH.ab1 D06_SURFISH_P02_AL0GI33_Fish-BCH.ab1\n",
      "E08_SURFISH_P02_AL0GI45_Fish-BCH.ab1 D05_SURFISH_P02_AL0GH90_Fish-BCH.ab1\n",
      "E09_SURFISH_P02_AL0GJ13_Fish-BCH.ab1 D04_SURFISH_P02_AL0GI32_Fish-BCH.ab1\n",
      "E10_SURFISH_P02_AL0GI69_Fish-BCH.ab1 D03_SURFISH_P02_AL0GI04_Fish-BCH.ab1\n",
      "E11_SURFISH_P02_AL0GJ10_Fish-BCH.ab1 D02_SURFISH_P02_AL0GI60_Fish-BCH.ab1\n",
      "E12_SURFISH_P02_AL0GJ05_Fish-BCH.ab1 D01_SURFISH_P02_AL0GI54_Fish-BCH.ab1\n",
      "F01_SURFISH_P02_AL0GH84_Fish-BCH.ab1 C12_SURFISH_P02_AL0GI89_Fish-BCH.ab1\n",
      "F02_SURFISH_P02_AL0GI16_Fish-BCH.ab1 C11_SURFISH_P02_AL0GJ32_Fish-BCH.ab1\n",
      "F03_SURFISH_P02_AL0GI35_Fish-BCH.ab1 C10_SURFISH_P02_AL0GI81_Fish-BCH.ab1\n",
      "F04_SURFISH_P02_AL0GI44_Fish-BCH.ab1 C09_SURFISH_P02_AL0GI21_Fish-BCH.ab1\n",
      "F05_SURFISH_P02_AL0GH93_Fish-BCH.ab1 C08_SURFISH_P02_AL0GI22_Fish-BCH.ab1\n",
      "F06_SURFISH_P02_AL0GI03_Fish-BCH.ab1 C07_SURFISH_P02_AL0GI24_Fish-BCH.ab1\n",
      "F07_SURFISH_P02_AL0GI46_Fish-BCH.ab1 C06_SURFISH_P02_AL0GH91_Fish-BCH.ab1\n",
      "F08_SURFISH_P02_AL0GH85_Fish-BCH.ab1 C05_SURFISH_P02_AL0GI28_Fish-BCH.ab1\n",
      "F09_SURFISH_P02_AL0GJ14_Fish-BCH.ab1 C04_SURFISH_P02_AL0GH99_Fish-BCH.ab1\n",
      "F10_SURFISH_P02_AL0GJ24_Fish-BCH.ab1 C03_SURFISH_P02_AL0GH92_Fish-BCH.ab1\n",
      "F11_SURFISH_P02_AL0GI80_Fish-BCH.ab1 C02_SURFISH_P02_AL0GH94_Fish-BCH.ab1\n",
      "F12_SURFISH_P02_AL0GJ34_Fish-BCH.ab1 C01_SURFISH_P02_AL0GH86_Fish-BCH.ab1\n",
      "G01_SURFISH_P02_AL0GI15_Fish-BCH.ab1 B12_SURFISH_P02_AL0GI70_Fish-BCH.ab1\n",
      "G02_SURFISH_P02_AL0GI57_Fish-BCH.ab1 B11_SURFISH_P02_AL0GJ43_Fish-BCH.ab1\n",
      "G03_SURFISH_P02_AL0GH87_Fish-BCH.ab1 B10_SURFISH_P02_AL0GI88_Fish-BCH.ab1\n",
      "G04_SURFISH_P02_AL0GH89_Fish-BCH.ab1 B09_SURFISH_P02_AL0GI00_Fish-BCH.ab1\n",
      "G05_SURFISH_P02_AL0GI12_Fish-BCH.ab1 B08_SURFISH_P02_AL0GI53_Fish-BCH.ab1\n",
      "G06_SURFISH_P02_AL0GI42_Fish-BCH.ab1 B07_SURFISH_P02_AL0GI40_Fish-BCH.ab1\n",
      "G07_SURFISH_P02_AL0GI06_Fish-BCH.ab1 B06_SURFISH_P02_AL0GI52_Fish-BCH.ab1\n",
      "G08_SURFISH_P02_AL0GI10_Fish-BCH.ab1 B05_SURFISH_P02_AL0GI29_Fish-BCH.ab1\n",
      "G09_SURFISH_P02_AL0GJ16_Fish-BCH.ab1 B04_SURFISH_P02_AL0GI58_Fish-BCH.ab1\n",
      "G10_SURFISH_P02_AL0GJ08_Fish-BCH.ab1 B03_SURFISH_P02_AL0GI20_Fish-BCH.ab1\n",
      "G11_SURFISH_P02_AL0GI96_Fish-BCH.ab1 B02_SURFISH_P02_AL0GI39_Fish-BCH.ab1\n",
      "G12_SURFISH_P02_UNUSED_Fish-BCH.ab1 B01_SURFISH_P02_AL0GI07_Fish-BCH.ab1\n",
      "H01_SURFISH_P02_AL0GI55_Fish-BCH.ab1 A12_SURFISH_P02_AL0GJ33_Fish-BCH.ab1\n",
      "H02_SURFISH_P02_AL0GI11_Fish-BCH.ab1 A11_SURFISH_P02_AL0GJ12_Fish-BCH.ab1\n",
      "H03_SURFISH_P02_AL0GI50_Fish-BCH.ab1 A10_SURFISH_P02_AL0GJ38_Fish-BCH.ab1\n",
      "H04_SURFISH_P02_AL0GI43_Fish-BCH.ab1 A09_SURFISH_P02_AL0GI49_Fish-BCH.ab1\n",
      "H05_SURFISH_P02_AL0GI41_Fish-BCH.ab1 A08_SURFISH_P02_AL0GI13_Fish-BCH.ab1\n",
      "H06_SURFISH_P02_AL0GI31_Fish-BCH.ab1 A07_SURFISH_P02_AL0GH83_Fish-BCH.ab1\n",
      "H07_SURFISH_P02_AL0GI02_Fish-BCH.ab1 A06_SURFISH_P02_AL0GI56_Fish-BCH.ab1\n",
      "H08_SURFISH_P02_AL0GI17_Fish-BCH.ab1 A05_SURFISH_P02_AL0GI37_Fish-BCH.ab1\n",
      "H09_SURFISH_P02_AL0GJ23_Fish-BCH.ab1 A04_SURFISH_P02_AL0GH88_Fish-BCH.ab1\n",
      "H10_SURFISH_P02_AL0GJ35_Fish-BCH.ab1 A03_SURFISH_P02_AL0GI05_Fish-BCH.ab1\n",
      "H11_SURFISH_P02_AL0GI99_Fish-BCH.ab1 A02_SURFISH_P02_AL0GI30_Fish-BCH.ab1\n",
      "H12_SURFISH_P02_UNUSED_Fish-BCH.ab1 A01_SURFISH_P02_AL0GI23_Fish-BCH.ab1\n"
     ]
    }
   ],
   "source": [
    "for row in P02.itertuples():\n",
    "    print(row._1, row._2)"
   ]
  },
  {
   "cell_type": "code",
   "execution_count": 24,
   "metadata": {
    "collapsed": true
   },
   "outputs": [],
   "source": [
    "for row in P02.itertuples():\n",
    "    incfile = oldP02files/row._1\n",
    "    corfile = newP02files/row._2\n",
    "    shutil.copy(incfile, corfile)"
   ]
  },
  {
   "cell_type": "code",
   "execution_count": null,
   "metadata": {
    "collapsed": true
   },
   "outputs": [],
   "source": [
    "\n"
   ]
  }
 ],
 "metadata": {
  "kernelspec": {
   "display_name": "Python 2",
   "language": "python",
   "name": "python2"
  },
  "language_info": {
   "codemirror_mode": {
    "name": "ipython",
    "version": 2
   },
   "file_extension": ".py",
   "mimetype": "text/x-python",
   "name": "python",
   "nbconvert_exporter": "python",
   "pygments_lexer": "ipython2",
   "version": "2.7.16"
  }
 },
 "nbformat": 4,
 "nbformat_minor": 2
}
