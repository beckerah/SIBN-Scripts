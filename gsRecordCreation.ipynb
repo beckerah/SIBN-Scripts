{
 "cells": [
  {
   "cell_type": "markdown",
   "metadata": {},
   "source": [
    "### This script creates an import spreadsheet for GS record creation. "
   ]
  },
  {
   "cell_type": "markdown",
   "metadata": {},
   "source": [
    "Note that some departments have different requirements for included fields. Please reference the Submitting DNA and Tissue Plates to Biorepository.docx located at https://www.dropbox.com/s/jeme1tt7zb0668t/Submitting%20DNA%20and%20Tissue%20Plates%20to%20Biorepository.docx?dl=0"
   ]
  },
  {
   "cell_type": "code",
   "execution_count": 1,
   "metadata": {},
   "outputs": [],
   "source": [
    "import pandas as pd"
   ]
  },
  {
   "cell_type": "markdown",
   "metadata": {},
   "source": [
    "#### Import your fims spreadsheets and concatenate them (if multiple):"
   ]
  },
  {
   "cell_type": "code",
   "execution_count": 5,
   "metadata": {},
   "outputs": [
    {
     "name": "stdout",
     "output_type": "stream",
     "text": [
      "<class 'pandas.core.frame.DataFrame'>\n",
      "Int64Index: 112 entries, 0 to 93\n",
      "Data columns (total 34 columns):\n",
      "materialSampleID             112 non-null object\n",
      "institutionCode              112 non-null object\n",
      "kingdom                      112 non-null object\n",
      "phylum                       112 non-null object\n",
      "scientificName               112 non-null object\n",
      "yearCollected                112 non-null int64\n",
      "locality                     112 non-null object\n",
      "country                      112 non-null object\n",
      "tissuePlate                  112 non-null object\n",
      "tissueWell                   112 non-null object\n",
      "collectionCode               112 non-null object\n",
      "catalogNumber                112 non-null int64\n",
      "class                        18 non-null object\n",
      "order                        18 non-null object\n",
      "family                       18 non-null object\n",
      "genus                        112 non-null object\n",
      "specificEpithet              112 non-null object\n",
      "voucherCatalogNumber         112 non-null object\n",
      "dayCollected                 112 non-null int64\n",
      "monthCollected               112 non-null int64\n",
      "decimalLatitude              108 non-null float64\n",
      "decimalLongitude             108 non-null float64\n",
      "tissueID                     112 non-null object\n",
      "tissueBarcode                112 non-null object\n",
      "Sample_bcid                  112 non-null object\n",
      "Tissue_bcid                  112 non-null object\n",
      "expeditionCode               112 non-null object\n",
      "projectId                    112 non-null int64\n",
      "tissueOtherCatalogNumbers    112 non-null object\n",
      "tissueType                   112 non-null object\n",
      "identifiedBy                 20 non-null object\n",
      "collectorList                14 non-null object\n",
      "extractionWell               94 non-null object\n",
      "Unnamed: 29                  0 non-null float64\n",
      "dtypes: float64(3), int64(5), object(26)\n",
      "memory usage: 30.6+ KB\n"
     ]
    }
   ],
   "source": [
    "fims01_df = pd.read_excel('../../../SIBN Projects/Djibouti/FIMS spreadsheets/geomeDownloads/djiboutiGeomeUpload.xlsx', \n",
    "                          sheet_name = 'Samples', dtype={'tissueOtherCatalogNumbers':str})\n",
    "fims02_df = pd.read_excel('../../../SIBN Projects/Djibouti/FIMS spreadsheets/geomeDownloads/smMammP01GeomeUpload.xlsx', \n",
    "                          sheet_name = 'Samples', dtype={'tissueOtherCatalogNumbers':str})\n",
    "specimenData_df = pd.concat([fims01_df, fims02_df], sort = False)\n",
    "specimenData_df.info()"
   ]
  },
  {
   "cell_type": "markdown",
   "metadata": {},
   "source": [
    "#### Tell pandas which columns to keep:"
   ]
  },
  {
   "cell_type": "markdown",
   "metadata": {},
   "source": [
    "For birds & mammals, the required columns are:\n",
    "Plate Name, \n",
    "Well position, \n",
    "2D Barcode (including leading zero), \n",
    "USNM #, \n",
    "Field # (if available), \n",
    "Tissue BR# (if known), \n",
    "Genus, \n",
    "Species, \n",
    "Collector, \n",
    "Genetic Sample type(e.g. tissue, DNA), \n",
    "Genetic Sample Preservative, \n",
    "Extraction method, \n",
    "GenBank Accession Number,\n",
    "Marker"
   ]
  },
  {
   "cell_type": "code",
   "execution_count": 8,
   "metadata": {},
   "outputs": [
    {
     "name": "stdout",
     "output_type": "stream",
     "text": [
      "<class 'pandas.core.frame.DataFrame'>\n",
      "Int64Index: 112 entries, 0 to 93\n",
      "Data columns (total 7 columns):\n",
      "tissuePlate                  112 non-null object\n",
      "tissueWell                   112 non-null object\n",
      "tissueOtherCatalogNumbers    112 non-null object\n",
      "catalogNumber                112 non-null int64\n",
      "tissueID                     112 non-null object\n",
      "genus                        112 non-null object\n",
      "specificEpithet              112 non-null object\n",
      "dtypes: int64(1), object(6)\n",
      "memory usage: 7.0+ KB\n"
     ]
    }
   ],
   "source": [
    "gsRecords_df = pd.DataFrame(specimenData_df, columns = ['tissuePlate', 'tissueWell', 'tissueOtherCatalogNumbers', \n",
    "                                                        'catalogNumber', 'tissueID', 'genus', \n",
    "                                                        'specificEpithet'])\n",
    "gsRecords_df.info()"
   ]
  },
  {
   "cell_type": "markdown",
   "metadata": {},
   "source": [
    "#### Add the columns that aren't in the fims:"
   ]
  },
  {
   "cell_type": "code",
   "execution_count": 9,
   "metadata": {},
   "outputs": [
    {
     "data": {
      "text/html": [
       "<div>\n",
       "<style scoped>\n",
       "    .dataframe tbody tr th:only-of-type {\n",
       "        vertical-align: middle;\n",
       "    }\n",
       "\n",
       "    .dataframe tbody tr th {\n",
       "        vertical-align: top;\n",
       "    }\n",
       "\n",
       "    .dataframe thead th {\n",
       "        text-align: right;\n",
       "    }\n",
       "</style>\n",
       "<table border=\"1\" class=\"dataframe\">\n",
       "  <thead>\n",
       "    <tr style=\"text-align: right;\">\n",
       "      <th></th>\n",
       "      <th>tissuePlate</th>\n",
       "      <th>tissueWell</th>\n",
       "      <th>tissueOtherCatalogNumbers</th>\n",
       "      <th>catalogNumber</th>\n",
       "      <th>tissueID</th>\n",
       "      <th>genus</th>\n",
       "      <th>specificEpithet</th>\n",
       "      <th>genetic sample type</th>\n",
       "      <th>extraction method</th>\n",
       "      <th>marker</th>\n",
       "    </tr>\n",
       "  </thead>\n",
       "  <tbody>\n",
       "    <tr>\n",
       "      <td>0</td>\n",
       "      <td>Djibouti16_P01</td>\n",
       "      <td>E10</td>\n",
       "      <td>0214375891</td>\n",
       "      <td>602629</td>\n",
       "      <td>AE7VU52</td>\n",
       "      <td>Ichneumia</td>\n",
       "      <td>albicauda</td>\n",
       "      <td>DNA, RNA, Proteins; Whole genomic DNA</td>\n",
       "      <td>autogen</td>\n",
       "      <td>COI</td>\n",
       "    </tr>\n",
       "    <tr>\n",
       "      <td>1</td>\n",
       "      <td>Djibouti16_P01</td>\n",
       "      <td>F11</td>\n",
       "      <td>0214375887</td>\n",
       "      <td>602581</td>\n",
       "      <td>AE7VV90</td>\n",
       "      <td>Gerbillus</td>\n",
       "      <td>dasyurus</td>\n",
       "      <td>DNA, RNA, Proteins; Whole genomic DNA</td>\n",
       "      <td>autogen</td>\n",
       "      <td>COI</td>\n",
       "    </tr>\n",
       "    <tr>\n",
       "      <td>2</td>\n",
       "      <td>Djibouti16_P01</td>\n",
       "      <td>D10</td>\n",
       "      <td>0214375910</td>\n",
       "      <td>602592</td>\n",
       "      <td>AE7VU44</td>\n",
       "      <td>Rattus</td>\n",
       "      <td>rattus</td>\n",
       "      <td>DNA, RNA, Proteins; Whole genomic DNA</td>\n",
       "      <td>autogen</td>\n",
       "      <td>COI</td>\n",
       "    </tr>\n",
       "    <tr>\n",
       "      <td>3</td>\n",
       "      <td>Djibouti16_P01</td>\n",
       "      <td>E11</td>\n",
       "      <td>0214375890</td>\n",
       "      <td>602624</td>\n",
       "      <td>AE7VV87</td>\n",
       "      <td>Genetta</td>\n",
       "      <td>abyssinica</td>\n",
       "      <td>DNA, RNA, Proteins; Whole genomic DNA</td>\n",
       "      <td>autogen</td>\n",
       "      <td>COI</td>\n",
       "    </tr>\n",
       "    <tr>\n",
       "      <td>4</td>\n",
       "      <td>Djibouti16_P01</td>\n",
       "      <td>H11</td>\n",
       "      <td>0214375863</td>\n",
       "      <td>602618</td>\n",
       "      <td>AE7VW11</td>\n",
       "      <td>Ichneumia</td>\n",
       "      <td>albicauda</td>\n",
       "      <td>DNA, RNA, Proteins; Whole genomic DNA</td>\n",
       "      <td>autogen</td>\n",
       "      <td>COI</td>\n",
       "    </tr>\n",
       "  </tbody>\n",
       "</table>\n",
       "</div>"
      ],
      "text/plain": [
       "      tissuePlate tissueWell tissueOtherCatalogNumbers  catalogNumber  \\\n",
       "0  Djibouti16_P01        E10                0214375891         602629   \n",
       "1  Djibouti16_P01        F11                0214375887         602581   \n",
       "2  Djibouti16_P01        D10                0214375910         602592   \n",
       "3  Djibouti16_P01        E11                0214375890         602624   \n",
       "4  Djibouti16_P01        H11                0214375863         602618   \n",
       "\n",
       "  tissueID      genus specificEpithet                    genetic sample type  \\\n",
       "0  AE7VU52  Ichneumia       albicauda  DNA, RNA, Proteins; Whole genomic DNA   \n",
       "1  AE7VV90  Gerbillus        dasyurus  DNA, RNA, Proteins; Whole genomic DNA   \n",
       "2  AE7VU44     Rattus          rattus  DNA, RNA, Proteins; Whole genomic DNA   \n",
       "3  AE7VV87    Genetta      abyssinica  DNA, RNA, Proteins; Whole genomic DNA   \n",
       "4  AE7VW11  Ichneumia       albicauda  DNA, RNA, Proteins; Whole genomic DNA   \n",
       "\n",
       "  extraction method marker  \n",
       "0           autogen    COI  \n",
       "1           autogen    COI  \n",
       "2           autogen    COI  \n",
       "3           autogen    COI  \n",
       "4           autogen    COI  "
      ]
     },
     "execution_count": 9,
     "metadata": {},
     "output_type": "execute_result"
    }
   ],
   "source": [
    "gsRecords_df['genetic sample type'] = 'DNA, RNA, Proteins; Whole genomic DNA'\n",
    "gsRecords_df['extraction method'] = 'autogen'\n",
    "gsRecords_df['marker'] = 'COI'\n",
    "gsRecords_df.head()"
   ]
  },
  {
   "cell_type": "markdown",
   "metadata": {},
   "source": [
    "#### Export the dataframe to an Excel spreadsheet. Make sure to name it something useful!:"
   ]
  },
  {
   "cell_type": "code",
   "execution_count": 10,
   "metadata": {},
   "outputs": [],
   "source": [
    "gsRecords_df.to_excel('../../../../SIBN Biorepository/GS files sent to data managers/djibouti_mamm_2020_Apr_16.xlsx', \n",
    "                      index = False)"
   ]
  },
  {
   "cell_type": "code",
   "execution_count": null,
   "metadata": {},
   "outputs": [],
   "source": []
  }
 ],
 "metadata": {
  "kernelspec": {
   "display_name": "Python 3",
   "language": "python",
   "name": "python3"
  },
  "language_info": {
   "codemirror_mode": {
    "name": "ipython",
    "version": 3
   },
   "file_extension": ".py",
   "mimetype": "text/x-python",
   "name": "python",
   "nbconvert_exporter": "python",
   "pygments_lexer": "ipython3",
   "version": "3.7.4"
  }
 },
 "nbformat": 4,
 "nbformat_minor": 2
}
