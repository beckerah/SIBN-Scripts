{
 "cells": [
  {
   "cell_type": "markdown",
   "metadata": {},
   "source": [
    "### This script will help you figure out reruns based on data from your FIMS spreadsheets, and Geneious CSV exports of HQ contigs and LQ contigs. "
   ]
  },
  {
   "cell_type": "code",
   "execution_count": 1,
   "metadata": {},
   "outputs": [],
   "source": [
    "import pandas as pd"
   ]
  },
  {
   "cell_type": "markdown",
   "metadata": {},
   "source": [
    "#### Import your FIMS spreadsheets and concatenate them. "
   ]
  },
  {
   "cell_type": "markdown",
   "metadata": {},
   "source": [
    "##### (It shouldn't matter if they are CSV or XLS/XLSX, as long as you are using the correct read-in terminology, e.g. \"pd.read_excel\" or \"pd.read_csv\". Make sure the filename uses the correct ending: \".csv\" or \".xlsx\", etc.) \n",
    "If you are using an Excel spreadsheet that has been uploaded to GeOMe, you may need to specify the \"sheet_name\"."
   ]
  },
  {
   "cell_type": "code",
   "execution_count": 2,
   "metadata": {},
   "outputs": [],
   "source": [
    "FIMS01_df = pd.read_excel('../../FIMS/GeOMe upload/Trichoptera_P01_2019.07.12.xlsx', sheet_name='Samples')"
   ]
  },
  {
   "cell_type": "code",
   "execution_count": 3,
   "metadata": {},
   "outputs": [],
   "source": [
    "FIMS02_df = pd.read_csv('../../FIMS/GeOMe upload/Trichoptera_P02_2019.07.12.csv')"
   ]
  },
  {
   "cell_type": "code",
   "execution_count": 4,
   "metadata": {},
   "outputs": [],
   "source": [
    "FIMS03_df = pd.read_csv('../../FIMS/GeOMe upload/Trichoptera_P03_2019.07.12.csv')"
   ]
  },
  {
   "cell_type": "code",
   "execution_count": 5,
   "metadata": {},
   "outputs": [
    {
     "data": {
      "text/html": [
       "<div>\n",
       "<style scoped>\n",
       "    .dataframe tbody tr th:only-of-type {\n",
       "        vertical-align: middle;\n",
       "    }\n",
       "\n",
       "    .dataframe tbody tr th {\n",
       "        vertical-align: top;\n",
       "    }\n",
       "\n",
       "    .dataframe thead th {\n",
       "        text-align: right;\n",
       "    }\n",
       "</style>\n",
       "<table border=\"1\" class=\"dataframe\">\n",
       "  <thead>\n",
       "    <tr style=\"text-align: right;\">\n",
       "      <th></th>\n",
       "      <th>materialSampleID</th>\n",
       "      <th>institutionCode</th>\n",
       "      <th>kingdom</th>\n",
       "      <th>phylum</th>\n",
       "      <th>scientificName</th>\n",
       "      <th>yearCollected</th>\n",
       "      <th>locality</th>\n",
       "      <th>country</th>\n",
       "      <th>tissuePlate</th>\n",
       "      <th>tissueWell</th>\n",
       "      <th>...</th>\n",
       "      <th>specificEpithet</th>\n",
       "      <th>identifiedBy</th>\n",
       "      <th>fieldNumber</th>\n",
       "      <th>genbankSpecimenVoucher</th>\n",
       "      <th>boldProcessID</th>\n",
       "      <th>dayCollected</th>\n",
       "      <th>monthCollected</th>\n",
       "      <th>tissueID</th>\n",
       "      <th>tissueBarcode</th>\n",
       "      <th>tissueOtherCatalogNumbers</th>\n",
       "    </tr>\n",
       "  </thead>\n",
       "  <tbody>\n",
       "    <tr>\n",
       "      <td>0</td>\n",
       "      <td>RASBC56191</td>\n",
       "      <td>MGCL</td>\n",
       "      <td>Animalia</td>\n",
       "      <td>Arthropoda</td>\n",
       "      <td>Cicinnus nsp</td>\n",
       "      <td>2015</td>\n",
       "      <td>Arizona, Santa Cruz Co., Peña Blanca Lake, Paj...</td>\n",
       "      <td>USA</td>\n",
       "      <td>Trichoptera_P04</td>\n",
       "      <td>A01</td>\n",
       "      <td>...</td>\n",
       "      <td>NaN</td>\n",
       "      <td>NaN</td>\n",
       "      <td>RASBC56191</td>\n",
       "      <td>NaN</td>\n",
       "      <td>NaN</td>\n",
       "      <td>NaN</td>\n",
       "      <td>NaN</td>\n",
       "      <td>RASBC56191</td>\n",
       "      <td>NaN</td>\n",
       "      <td>302249267</td>\n",
       "    </tr>\n",
       "    <tr>\n",
       "      <td>1</td>\n",
       "      <td>RASBC57191</td>\n",
       "      <td>AMNH</td>\n",
       "      <td>Animalia</td>\n",
       "      <td>Arthropoda</td>\n",
       "      <td>Cicinnus sp</td>\n",
       "      <td>1979</td>\n",
       "      <td>Sonora, Mile 6.2 Colonia Mesa tres Rios to Hua...</td>\n",
       "      <td>Mexico</td>\n",
       "      <td>Trichoptera_P04</td>\n",
       "      <td>B01</td>\n",
       "      <td>...</td>\n",
       "      <td>NaN</td>\n",
       "      <td>NaN</td>\n",
       "      <td>RASBC57191</td>\n",
       "      <td>NaN</td>\n",
       "      <td>NaN</td>\n",
       "      <td>NaN</td>\n",
       "      <td>NaN</td>\n",
       "      <td>RASBC57191</td>\n",
       "      <td>NaN</td>\n",
       "      <td>302249268</td>\n",
       "    </tr>\n",
       "    <tr>\n",
       "      <td>2</td>\n",
       "      <td>LEP78144</td>\n",
       "      <td>MGCL</td>\n",
       "      <td>Animalia</td>\n",
       "      <td>Arthropoda</td>\n",
       "      <td>Comadia sp.</td>\n",
       "      <td>2019</td>\n",
       "      <td>Unknown</td>\n",
       "      <td>Mexico</td>\n",
       "      <td>Trichoptera_P04</td>\n",
       "      <td>C01</td>\n",
       "      <td>...</td>\n",
       "      <td>NaN</td>\n",
       "      <td>NaN</td>\n",
       "      <td>LEP78144</td>\n",
       "      <td>NaN</td>\n",
       "      <td>NaN</td>\n",
       "      <td>NaN</td>\n",
       "      <td>NaN</td>\n",
       "      <td>LEP78144</td>\n",
       "      <td>NaN</td>\n",
       "      <td>302249269</td>\n",
       "    </tr>\n",
       "    <tr>\n",
       "      <td>3</td>\n",
       "      <td>LEP78071</td>\n",
       "      <td>MGCL</td>\n",
       "      <td>Animalia</td>\n",
       "      <td>Arthropoda</td>\n",
       "      <td>Comadia sp.</td>\n",
       "      <td>2019</td>\n",
       "      <td>Unknown</td>\n",
       "      <td>Mexico</td>\n",
       "      <td>Trichoptera_P04</td>\n",
       "      <td>D01</td>\n",
       "      <td>...</td>\n",
       "      <td>NaN</td>\n",
       "      <td>NaN</td>\n",
       "      <td>LEP78071</td>\n",
       "      <td>NaN</td>\n",
       "      <td>NaN</td>\n",
       "      <td>NaN</td>\n",
       "      <td>NaN</td>\n",
       "      <td>LEP78071</td>\n",
       "      <td>NaN</td>\n",
       "      <td>302249270</td>\n",
       "    </tr>\n",
       "    <tr>\n",
       "      <td>4</td>\n",
       "      <td>LEP73648</td>\n",
       "      <td>MGCL</td>\n",
       "      <td>Animalia</td>\n",
       "      <td>Arthropoda</td>\n",
       "      <td>Epholca arenosa</td>\n",
       "      <td>2018</td>\n",
       "      <td>Unknown</td>\n",
       "      <td>Japan</td>\n",
       "      <td>Trichoptera_P04</td>\n",
       "      <td>E01</td>\n",
       "      <td>...</td>\n",
       "      <td>NaN</td>\n",
       "      <td>NaN</td>\n",
       "      <td>LEP73648</td>\n",
       "      <td>NaN</td>\n",
       "      <td>NaN</td>\n",
       "      <td>1.0</td>\n",
       "      <td>7.0</td>\n",
       "      <td>LEP73648</td>\n",
       "      <td>NaN</td>\n",
       "      <td>302249271</td>\n",
       "    </tr>\n",
       "  </tbody>\n",
       "</table>\n",
       "<p>5 rows × 30 columns</p>\n",
       "</div>"
      ],
      "text/plain": [
       "  materialSampleID institutionCode   kingdom      phylum   scientificName  \\\n",
       "0       RASBC56191            MGCL  Animalia  Arthropoda     Cicinnus nsp   \n",
       "1       RASBC57191            AMNH  Animalia  Arthropoda      Cicinnus sp   \n",
       "2         LEP78144            MGCL  Animalia  Arthropoda      Comadia sp.   \n",
       "3         LEP78071            MGCL  Animalia  Arthropoda      Comadia sp.   \n",
       "4         LEP73648            MGCL  Animalia  Arthropoda  Epholca arenosa   \n",
       "\n",
       "   yearCollected                                           locality country  \\\n",
       "0           2015  Arizona, Santa Cruz Co., Peña Blanca Lake, Paj...     USA   \n",
       "1           1979  Sonora, Mile 6.2 Colonia Mesa tres Rios to Hua...  Mexico   \n",
       "2           2019                                            Unknown  Mexico   \n",
       "3           2019                                            Unknown  Mexico   \n",
       "4           2018                                            Unknown   Japan   \n",
       "\n",
       "       tissuePlate tissueWell  ... specificEpithet identifiedBy fieldNumber  \\\n",
       "0  Trichoptera_P04        A01  ...             NaN          NaN  RASBC56191   \n",
       "1  Trichoptera_P04        B01  ...             NaN          NaN  RASBC57191   \n",
       "2  Trichoptera_P04        C01  ...             NaN          NaN    LEP78144   \n",
       "3  Trichoptera_P04        D01  ...             NaN          NaN    LEP78071   \n",
       "4  Trichoptera_P04        E01  ...             NaN          NaN    LEP73648   \n",
       "\n",
       "   genbankSpecimenVoucher  boldProcessID  dayCollected monthCollected  \\\n",
       "0                     NaN            NaN           NaN            NaN   \n",
       "1                     NaN            NaN           NaN            NaN   \n",
       "2                     NaN            NaN           NaN            NaN   \n",
       "3                     NaN            NaN           NaN            NaN   \n",
       "4                     NaN            NaN           1.0            7.0   \n",
       "\n",
       "     tissueID  tissueBarcode  tissueOtherCatalogNumbers  \n",
       "0  RASBC56191            NaN                  302249267  \n",
       "1  RASBC57191            NaN                  302249268  \n",
       "2    LEP78144            NaN                  302249269  \n",
       "3    LEP78071            NaN                  302249270  \n",
       "4    LEP73648            NaN                  302249271  \n",
       "\n",
       "[5 rows x 30 columns]"
      ]
     },
     "execution_count": 5,
     "metadata": {},
     "output_type": "execute_result"
    }
   ],
   "source": [
    "FIMS04_df = pd.read_excel('../../FIMS/GeOMe upload/Trichoptera_P04_2019.07.12-2.xlsx')\n",
    "FIMS04_df.head()"
   ]
  },
  {
   "cell_type": "code",
   "execution_count": 6,
   "metadata": {},
   "outputs": [],
   "source": [
    "FIMS05_df = pd.read_csv('../../FIMS/GeOMe upload/Trichoptera_P05_2019.08.20.csv')"
   ]
  },
  {
   "cell_type": "code",
   "execution_count": 7,
   "metadata": {},
   "outputs": [
    {
     "name": "stdout",
     "output_type": "stream",
     "text": [
      "<class 'pandas.core.frame.DataFrame'>\n",
      "Int64Index: 472 entries, 0 to 93\n",
      "Data columns (total 31 columns):\n",
      "boldProcessID                0 non-null float64\n",
      "catalogNumber                31 non-null object\n",
      "class                        0 non-null float64\n",
      "collectionCode               188 non-null object\n",
      "country                      470 non-null object\n",
      "dayCollected                 147 non-null float64\n",
      "decimalLatitude              104 non-null float64\n",
      "decimalLongitude             104 non-null float64\n",
      "family                       137 non-null object\n",
      "fieldNumber                  470 non-null object\n",
      "genbankSpecimenVoucher       0 non-null float64\n",
      "genus                        128 non-null object\n",
      "identifiedBy                 0 non-null float64\n",
      "index                        94 non-null float64\n",
      "institutionCode              470 non-null object\n",
      "kingdom                      470 non-null object\n",
      "locality                     470 non-null object\n",
      "materialSampleID             470 non-null object\n",
      "monthCollected               147 non-null float64\n",
      "order                        470 non-null object\n",
      "phylum                       470 non-null object\n",
      "scientificName               470 non-null object\n",
      "specificEpithet              0 non-null float64\n",
      "tissueBarcode                0 non-null float64\n",
      "tissueID                     470 non-null object\n",
      "tissueOtherCatalogNumbers    470 non-null float64\n",
      "tissuePlate                  470 non-null object\n",
      "tissueType                   470 non-null object\n",
      "tissueWell                   470 non-null object\n",
      "voucherCatalogNumber         34 non-null object\n",
      "yearCollected                470 non-null float64\n",
      "dtypes: float64(13), object(18)\n",
      "memory usage: 118.0+ KB\n"
     ]
    },
    {
     "name": "stderr",
     "output_type": "stream",
     "text": [
      "/Users/beckerah/anaconda3/lib/python3.7/site-packages/ipykernel_launcher.py:1: FutureWarning: Sorting because non-concatenation axis is not aligned. A future version\n",
      "of pandas will change to not sort by default.\n",
      "\n",
      "To accept the future behavior, pass 'sort=False'.\n",
      "\n",
      "To retain the current behavior and silence the warning, pass 'sort=True'.\n",
      "\n",
      "  \"\"\"Entry point for launching an IPython kernel.\n"
     ]
    }
   ],
   "source": [
    "FIMS_df = pd.concat([FIMS01_df,FIMS02_df,FIMS03_df,FIMS04_df,FIMS05_df])\n",
    "FIMS_df.info()"
   ]
  },
  {
   "cell_type": "markdown",
   "metadata": {},
   "source": [
    " #### Import your Geneious CSVs and concatenate them."
   ]
  },
  {
   "cell_type": "code",
   "execution_count": 8,
   "metadata": {},
   "outputs": [
    {
     "name": "stdout",
     "output_type": "stream",
     "text": [
      "<class 'pandas.core.frame.DataFrame'>\n",
      "RangeIndex: 87 entries, 0 to 86\n",
      "Data columns (total 24 columns):\n",
      "Name                                                     87 non-null object\n",
      "Bin                                                      87 non-null object\n",
      "Description                                              87 non-null object\n",
      "HQ%                                                      87 non-null object\n",
      "LQ%                                                      87 non-null object\n",
      "Max Sequence Length                                      87 non-null int64\n",
      "Min Sequence Length                                      87 non-null int64\n",
      "Sequencing Primer: Forward PCR Primer Name               87 non-null object\n",
      "Sequencing Primer: Forward PCR Primer Sequence           87 non-null object\n",
      "Sequencing Primer: Forward Sequencing Primer Name        87 non-null object\n",
      "Sequencing Primer: Forward Sequencing Primer Sequence    87 non-null object\n",
      "Sequencing Primer: Reverse PCR Primer Name               87 non-null object\n",
      "Sequencing Primer: Reverse PCR Primer Sequence           87 non-null object\n",
      "Sequencing Primer: Reverse Sequencing Primer Name        87 non-null object\n",
      "Sequencing Primer: Reverse Sequencing Primer Sequence    87 non-null object\n",
      "Sequencing Well                                          87 non-null object\n",
      "Taxonomy                                                 87 non-null object\n",
      "catalogNumber                                            2 non-null object\n",
      "materialSampleID                                         87 non-null object\n",
      "scientificName                                           87 non-null object\n",
      "tissueOtherCatalogNumbers                                87 non-null int64\n",
      "tissuePlate                                              87 non-null object\n",
      "tissueWell                                               87 non-null object\n",
      "voucherCatalogNumber                                     2 non-null object\n",
      "dtypes: int64(3), object(21)\n",
      "memory usage: 16.4+ KB\n"
     ]
    }
   ],
   "source": [
    "LQ_seqs_df = pd.read_csv('87 documents from LQ Contigs.csv')\n",
    "LQ_seqs_df.info()"
   ]
  },
  {
   "cell_type": "code",
   "execution_count": 9,
   "metadata": {},
   "outputs": [
    {
     "name": "stdout",
     "output_type": "stream",
     "text": [
      "<class 'pandas.core.frame.DataFrame'>\n",
      "RangeIndex: 396 entries, 0 to 395\n",
      "Data columns (total 24 columns):\n",
      "Name                                                     396 non-null object\n",
      "Bin                                                      396 non-null object\n",
      "Description                                              396 non-null object\n",
      "HQ%                                                      396 non-null object\n",
      "LQ%                                                      396 non-null object\n",
      "Max Sequence Length                                      396 non-null int64\n",
      "Min Sequence Length                                      396 non-null int64\n",
      "Sequencing Primer: Forward PCR Primer Name               396 non-null object\n",
      "Sequencing Primer: Forward PCR Primer Sequence           396 non-null object\n",
      "Sequencing Primer: Forward Sequencing Primer Name        396 non-null object\n",
      "Sequencing Primer: Forward Sequencing Primer Sequence    396 non-null object\n",
      "Sequencing Primer: Reverse PCR Primer Name               396 non-null object\n",
      "Sequencing Primer: Reverse PCR Primer Sequence           396 non-null object\n",
      "Sequencing Primer: Reverse Sequencing Primer Name        396 non-null object\n",
      "Sequencing Primer: Reverse Sequencing Primer Sequence    396 non-null object\n",
      "Sequencing Well                                          396 non-null object\n",
      "Taxonomy                                                 396 non-null object\n",
      "catalogNumber                                            23 non-null object\n",
      "materialSampleID                                         396 non-null object\n",
      "scientificName                                           396 non-null object\n",
      "tissueOtherCatalogNumbers                                396 non-null int64\n",
      "tissuePlate                                              396 non-null object\n",
      "tissueWell                                               396 non-null object\n",
      "voucherCatalogNumber                                     26 non-null object\n",
      "dtypes: int64(3), object(21)\n",
      "memory usage: 74.4+ KB\n"
     ]
    }
   ],
   "source": [
    "HQ_seqs_df = pd.read_csv('396 documents from Contigs.csv')\n",
    "HQ_seqs_df.info()"
   ]
  },
  {
   "cell_type": "code",
   "execution_count": 10,
   "metadata": {},
   "outputs": [
    {
     "name": "stdout",
     "output_type": "stream",
     "text": [
      "<class 'pandas.core.frame.DataFrame'>\n",
      "Int64Index: 483 entries, 0 to 395\n",
      "Data columns (total 24 columns):\n",
      "Name                                                     483 non-null object\n",
      "Bin                                                      483 non-null object\n",
      "Description                                              483 non-null object\n",
      "HQ%                                                      483 non-null object\n",
      "LQ%                                                      483 non-null object\n",
      "Max Sequence Length                                      483 non-null int64\n",
      "Min Sequence Length                                      483 non-null int64\n",
      "Sequencing Primer: Forward PCR Primer Name               483 non-null object\n",
      "Sequencing Primer: Forward PCR Primer Sequence           483 non-null object\n",
      "Sequencing Primer: Forward Sequencing Primer Name        483 non-null object\n",
      "Sequencing Primer: Forward Sequencing Primer Sequence    483 non-null object\n",
      "Sequencing Primer: Reverse PCR Primer Name               483 non-null object\n",
      "Sequencing Primer: Reverse PCR Primer Sequence           483 non-null object\n",
      "Sequencing Primer: Reverse Sequencing Primer Name        483 non-null object\n",
      "Sequencing Primer: Reverse Sequencing Primer Sequence    483 non-null object\n",
      "Sequencing Well                                          483 non-null object\n",
      "Taxonomy                                                 483 non-null object\n",
      "catalogNumber                                            25 non-null object\n",
      "materialSampleID                                         483 non-null object\n",
      "scientificName                                           483 non-null object\n",
      "tissueOtherCatalogNumbers                                483 non-null int64\n",
      "tissuePlate                                              483 non-null object\n",
      "tissueWell                                               483 non-null object\n",
      "voucherCatalogNumber                                     28 non-null object\n",
      "dtypes: int64(3), object(21)\n",
      "memory usage: 94.3+ KB\n"
     ]
    }
   ],
   "source": [
    "all_seqs_df = pd.concat([LQ_seqs_df,HQ_seqs_df])\n",
    "all_seqs_df.info()"
   ]
  },
  {
   "cell_type": "markdown",
   "metadata": {},
   "source": [
    "#### Figure out which samples are not represented in the Geneious CSVs. In other words, samples that were not sequenced. "
   ]
  },
  {
   "cell_type": "code",
   "execution_count": 15,
   "metadata": {},
   "outputs": [
    {
     "name": "stdout",
     "output_type": "stream",
     "text": [
      "<class 'pandas.core.frame.DataFrame'>\n",
      "Int64Index: 59 entries, 48 to 525\n",
      "Data columns (total 53 columns):\n",
      "boldProcessID                                            0 non-null float64\n",
      "catalogNumber_x                                          6 non-null object\n",
      "class                                                    0 non-null float64\n",
      "collectionCode                                           24 non-null object\n",
      "country                                                  57 non-null object\n",
      "dayCollected                                             6 non-null float64\n",
      "decimalLatitude                                          8 non-null float64\n",
      "decimalLongitude                                         8 non-null float64\n",
      "family                                                   24 non-null object\n",
      "fieldNumber                                              57 non-null object\n",
      "genbankSpecimenVoucher                                   0 non-null float64\n",
      "genus                                                    23 non-null object\n",
      "identifiedBy                                             0 non-null float64\n",
      "index                                                    5 non-null float64\n",
      "institutionCode                                          57 non-null object\n",
      "kingdom                                                  57 non-null object\n",
      "locality                                                 57 non-null object\n",
      "materialSampleID_x                                       57 non-null object\n",
      "monthCollected                                           6 non-null float64\n",
      "order                                                    57 non-null object\n",
      "phylum                                                   57 non-null object\n",
      "scientificName_x                                         57 non-null object\n",
      "specificEpithet                                          0 non-null float64\n",
      "tissueBarcode                                            0 non-null float64\n",
      "tissueID                                                 57 non-null object\n",
      "tissueOtherCatalogNumbers                                57 non-null float64\n",
      "tissuePlate                                              57 non-null object\n",
      "tissueType                                               57 non-null object\n",
      "tissueWell                                               57 non-null object\n",
      "voucherCatalogNumber_x                                   6 non-null object\n",
      "yearCollected                                            57 non-null float64\n",
      "Name                                                     0 non-null object\n",
      "Bin                                                      0 non-null object\n",
      "Description                                              0 non-null object\n",
      "HQ%                                                      0 non-null object\n",
      "LQ%                                                      0 non-null object\n",
      "Max Sequence Length                                      0 non-null float64\n",
      "Min Sequence Length                                      0 non-null float64\n",
      "Sequencing Primer: Forward PCR Primer Name               0 non-null object\n",
      "Sequencing Primer: Forward PCR Primer Sequence           0 non-null object\n",
      "Sequencing Primer: Forward Sequencing Primer Name        0 non-null object\n",
      "Sequencing Primer: Forward Sequencing Primer Sequence    0 non-null object\n",
      "Sequencing Primer: Reverse PCR Primer Name               0 non-null object\n",
      "Sequencing Primer: Reverse PCR Primer Sequence           0 non-null object\n",
      "Sequencing Primer: Reverse Sequencing Primer Name        0 non-null object\n",
      "Sequencing Primer: Reverse Sequencing Primer Sequence    0 non-null object\n",
      "Sequencing Well                                          0 non-null object\n",
      "Taxonomy                                                 0 non-null object\n",
      "catalogNumber_y                                          0 non-null object\n",
      "materialSampleID_y                                       0 non-null object\n",
      "scientificName_y                                         0 non-null object\n",
      "voucherCatalogNumber_y                                   0 non-null object\n",
      "_merge                                                   59 non-null category\n",
      "dtypes: category(1), float64(15), object(37)\n",
      "memory usage: 24.6+ KB\n"
     ]
    }
   ],
   "source": [
    "noSeqs_df = pd.merge(FIMS_df, all_seqs_df, on=['tissueOtherCatalogNumbers','tissuePlate','tissueWell'], \n",
    "                     how=\"outer\", indicator=True).query('_merge==\"left_only\"')\n",
    "noSeqs_df.info()"
   ]
  },
  {
   "cell_type": "markdown",
   "metadata": {},
   "source": [
    "##### The following code will strip out all the unecessary columns from the dataframe. Feel free to add back anything you think is relevant to your data. "
   ]
  },
  {
   "cell_type": "code",
   "execution_count": 19,
   "metadata": {},
   "outputs": [
    {
     "name": "stdout",
     "output_type": "stream",
     "text": [
      "<class 'pandas.core.frame.DataFrame'>\n",
      "Int64Index: 59 entries, 48 to 525\n",
      "Data columns (total 6 columns):\n",
      "materialSampleID_x           57 non-null object\n",
      "scientificName_x             57 non-null object\n",
      "tissueID                     57 non-null object\n",
      "tissueOtherCatalogNumbers    57 non-null float64\n",
      "tissuePlate                  57 non-null object\n",
      "tissueWell                   57 non-null object\n",
      "dtypes: float64(1), object(5)\n",
      "memory usage: 3.2+ KB\n"
     ]
    }
   ],
   "source": [
    "noSeqs_df = pd.DataFrame(noSeqs_df, columns = ['materialSampleID_x','scientificName_x','tissueID',\n",
    "                                               'tissueOtherCatalogNumbers','tissuePlate','tissueWell'])\n",
    "noSeqs_df.info()"
   ]
  },
  {
   "cell_type": "markdown",
   "metadata": {},
   "source": [
    "##### Rename columns (like cleaning up \"_x\", \"_y\", etc.)"
   ]
  },
  {
   "cell_type": "code",
   "execution_count": 20,
   "metadata": {},
   "outputs": [
    {
     "name": "stdout",
     "output_type": "stream",
     "text": [
      "<class 'pandas.core.frame.DataFrame'>\n",
      "Int64Index: 59 entries, 48 to 525\n",
      "Data columns (total 6 columns):\n",
      "materialSampleID             57 non-null object\n",
      "scientificName               57 non-null object\n",
      "tissueID                     57 non-null object\n",
      "tissueOtherCatalogNumbers    57 non-null float64\n",
      "tissuePlate                  57 non-null object\n",
      "tissueWell                   57 non-null object\n",
      "dtypes: float64(1), object(5)\n",
      "memory usage: 3.2+ KB\n"
     ]
    }
   ],
   "source": [
    "noSeqs_df.columns = ['materialSampleID','scientificName','tissueID','tissueOtherCatalogNumbers','tissuePlate',\n",
    "                     'tissueWell']\n",
    "noSeqs_df.info()"
   ]
  },
  {
   "cell_type": "markdown",
   "metadata": {},
   "source": [
    "#### Merge the LQ seq data and FIMS spreadsheet to pull in any missing info from the Geneious export."
   ]
  },
  {
   "cell_type": "code",
   "execution_count": 26,
   "metadata": {},
   "outputs": [
    {
     "name": "stdout",
     "output_type": "stream",
     "text": [
      "<class 'pandas.core.frame.DataFrame'>\n",
      "Int64Index: 87 entries, 0 to 86\n",
      "Data columns (total 54 columns):\n",
      "boldProcessID                                            0 non-null float64\n",
      "catalogNumber_x                                          2 non-null object\n",
      "class                                                    0 non-null float64\n",
      "collectionCode                                           73 non-null object\n",
      "country                                                  87 non-null object\n",
      "dayCollected                                             53 non-null float64\n",
      "decimalLatitude                                          55 non-null float64\n",
      "decimalLongitude                                         55 non-null float64\n",
      "family                                                   75 non-null object\n",
      "fieldNumber                                              87 non-null object\n",
      "genbankSpecimenVoucher                                   0 non-null float64\n",
      "genus                                                    73 non-null object\n",
      "identifiedBy                                             0 non-null float64\n",
      "index                                                    1 non-null float64\n",
      "institutionCode                                          87 non-null object\n",
      "kingdom                                                  87 non-null object\n",
      "locality                                                 87 non-null object\n",
      "materialSampleID_x                                       87 non-null object\n",
      "monthCollected                                           53 non-null float64\n",
      "order                                                    87 non-null object\n",
      "phylum                                                   87 non-null object\n",
      "scientificName_x                                         87 non-null object\n",
      "specificEpithet                                          0 non-null float64\n",
      "tissueBarcode                                            0 non-null float64\n",
      "tissueID                                                 87 non-null object\n",
      "tissueOtherCatalogNumbers                                87 non-null float64\n",
      "tissuePlate_x                                            87 non-null object\n",
      "tissueType                                               87 non-null object\n",
      "tissueWell_x                                             87 non-null object\n",
      "voucherCatalogNumber_x                                   2 non-null object\n",
      "yearCollected                                            87 non-null float64\n",
      "Name                                                     87 non-null object\n",
      "Bin                                                      87 non-null object\n",
      "Description                                              87 non-null object\n",
      "HQ%                                                      87 non-null object\n",
      "LQ%                                                      87 non-null object\n",
      "Max Sequence Length                                      87 non-null int64\n",
      "Min Sequence Length                                      87 non-null int64\n",
      "Sequencing Primer: Forward PCR Primer Name               87 non-null object\n",
      "Sequencing Primer: Forward PCR Primer Sequence           87 non-null object\n",
      "Sequencing Primer: Forward Sequencing Primer Name        87 non-null object\n",
      "Sequencing Primer: Forward Sequencing Primer Sequence    87 non-null object\n",
      "Sequencing Primer: Reverse PCR Primer Name               87 non-null object\n",
      "Sequencing Primer: Reverse PCR Primer Sequence           87 non-null object\n",
      "Sequencing Primer: Reverse Sequencing Primer Name        87 non-null object\n",
      "Sequencing Primer: Reverse Sequencing Primer Sequence    87 non-null object\n",
      "Sequencing Well                                          87 non-null object\n",
      "Taxonomy                                                 87 non-null object\n",
      "catalogNumber_y                                          2 non-null object\n",
      "materialSampleID_y                                       87 non-null object\n",
      "scientificName_y                                         87 non-null object\n",
      "tissuePlate_y                                            87 non-null object\n",
      "tissueWell_y                                             87 non-null object\n",
      "voucherCatalogNumber_y                                   2 non-null object\n",
      "dtypes: float64(13), int64(2), object(39)\n",
      "memory usage: 37.4+ KB\n"
     ]
    }
   ],
   "source": [
    "LQ_seqs_and_FIMS_df = pd.merge(how = 'inner', left = FIMS_df, right = LQ_seqs_df, on = 'tissueOtherCatalogNumbers')\n",
    "LQ_seqs_and_FIMS_df.info()"
   ]
  },
  {
   "cell_type": "markdown",
   "metadata": {},
   "source": [
    "As above, keep the columns you want and rename them."
   ]
  },
  {
   "cell_type": "code",
   "execution_count": 27,
   "metadata": {},
   "outputs": [
    {
     "name": "stdout",
     "output_type": "stream",
     "text": [
      "<class 'pandas.core.frame.DataFrame'>\n",
      "Int64Index: 87 entries, 0 to 86\n",
      "Data columns (total 6 columns):\n",
      "materialSampleID_x           87 non-null object\n",
      "scientificName_x             87 non-null object\n",
      "tissueID                     87 non-null object\n",
      "tissueOtherCatalogNumbers    87 non-null float64\n",
      "tissuePlate_x                87 non-null object\n",
      "tissueWell_x                 87 non-null object\n",
      "dtypes: float64(1), object(5)\n",
      "memory usage: 4.8+ KB\n"
     ]
    }
   ],
   "source": [
    "LQ_seqs_and_FIMS_df = pd.DataFrame(LQ_seqs_and_FIMS_df, columns = ['materialSampleID_x','scientificName_x',\n",
    "                                                                   'tissueID','tissueOtherCatalogNumbers',\n",
    "                                                                   'tissuePlate_x','tissueWell_x'])\n",
    "LQ_seqs_and_FIMS_df.info()"
   ]
  },
  {
   "cell_type": "code",
   "execution_count": 28,
   "metadata": {},
   "outputs": [
    {
     "name": "stdout",
     "output_type": "stream",
     "text": [
      "<class 'pandas.core.frame.DataFrame'>\n",
      "Int64Index: 87 entries, 0 to 86\n",
      "Data columns (total 6 columns):\n",
      "materialSampleID             87 non-null object\n",
      "scientificName               87 non-null object\n",
      "tissueID                     87 non-null object\n",
      "tissueOtherCatalogNumbers    87 non-null float64\n",
      "tissuePlate                  87 non-null object\n",
      "tissueWell                   87 non-null object\n",
      "dtypes: float64(1), object(5)\n",
      "memory usage: 4.8+ KB\n"
     ]
    }
   ],
   "source": [
    "LQ_seqs_and_FIMS_df.columns = ['materialSampleID','scientificName','tissueID','tissueOtherCatalogNumbers',\n",
    "                               'tissuePlate','tissueWell']\n",
    "LQ_seqs_and_FIMS_df.info()"
   ]
  },
  {
   "cell_type": "markdown",
   "metadata": {},
   "source": [
    "#### Concatenate the data frames including LQ sequences and No Sequence Data to produce a final reruns list."
   ]
  },
  {
   "cell_type": "code",
   "execution_count": 29,
   "metadata": {},
   "outputs": [
    {
     "name": "stdout",
     "output_type": "stream",
     "text": [
      "<class 'pandas.core.frame.DataFrame'>\n",
      "Int64Index: 146 entries, 48 to 86\n",
      "Data columns (total 6 columns):\n",
      "materialSampleID             144 non-null object\n",
      "scientificName               144 non-null object\n",
      "tissueID                     144 non-null object\n",
      "tissueOtherCatalogNumbers    144 non-null float64\n",
      "tissuePlate                  144 non-null object\n",
      "tissueWell                   144 non-null object\n",
      "dtypes: float64(1), object(5)\n",
      "memory usage: 8.0+ KB\n"
     ]
    }
   ],
   "source": [
    "LqAndNqSeqs_df = pd.concat([noSeqs_df,LQ_seqs_and_FIMS_df])\n",
    "LqAndNqSeqs_df.info()"
   ]
  },
  {
   "cell_type": "markdown",
   "metadata": {},
   "source": [
    "#### Save this list as an Excel spreadsheet."
   ]
  },
  {
   "cell_type": "code",
   "execution_count": 30,
   "metadata": {},
   "outputs": [],
   "source": [
    "LqAndNqSeqs_df.to_excel('TrichoReruns.xlsx',index=False)"
   ]
  },
  {
   "cell_type": "code",
   "execution_count": null,
   "metadata": {},
   "outputs": [],
   "source": []
  }
 ],
 "metadata": {
  "kernelspec": {
   "display_name": "Python 3",
   "language": "python",
   "name": "python3"
  },
  "language_info": {
   "codemirror_mode": {
    "name": "ipython",
    "version": 3
   },
   "file_extension": ".py",
   "mimetype": "text/x-python",
   "name": "python",
   "nbconvert_exporter": "python",
   "pygments_lexer": "ipython3",
   "version": "3.7.4"
  }
 },
 "nbformat": 4,
 "nbformat_minor": 2
}
