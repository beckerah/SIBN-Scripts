{
 "cells": [
  {
   "cell_type": "markdown",
   "metadata": {},
   "source": [
    "### This script will fix well numbers formatted as \"A1\", \"B1\", etc to \"A01\", \"B01\", etc."
   ]
  },
  {
   "cell_type": "code",
   "execution_count": 1,
   "metadata": {},
   "outputs": [],
   "source": [
    "import pandas as pd"
   ]
  },
  {
   "cell_type": "markdown",
   "metadata": {},
   "source": [
    "##### Read your file into the script by changing the file name. If its a csv instead of an xlsx, change \"pd.read_excel\" to \"pd.read_csv\"."
   ]
  },
  {
   "cell_type": "code",
   "execution_count": 27,
   "metadata": {},
   "outputs": [],
   "source": [
    "fims_df = pd.read_excel('Trichoptera_P05_2019.07.xlsx')\n",
    "fims_df.info()"
   ]
  },
  {
   "cell_type": "markdown",
   "metadata": {},
   "source": [
    "This is the dictionary that will update the well numbers:"
   ]
  },
  {
   "cell_type": "code",
   "execution_count": 29,
   "metadata": {},
   "outputs": [],
   "source": [
    "corrected_df = fims_df.replace({'A1':'A01', 'A2':'A02', 'A3':'A03', 'A4':'A04', 'A5':'A05', 'A6':'A06', 'A7':'A07', 'A8':'A08', 'A9':'A09', 'B1':'B01', 'B2':'B02', 'B3':'B03', 'B4':'B04', 'B5':'B05', 'B6':'B06', 'B7':'B07', 'B8':'B08', 'B9':'B09', 'C1':'C01', 'C2':'C02', 'C3':'C03', 'C4':'C04', 'C5':'C05', 'C6':'C06', 'C7':'C07', 'C8':'C08', 'C9':'C09', 'D1':'D01', 'D2':'D02', 'D3':'D03', 'D4':'D04', 'D5':'D05', 'D6':'D06', 'D7':'D07', 'D8':'D08', 'D9':'D09', 'E1':'E01', 'E2':'E02', 'E3':'E03', 'E4':'E04', 'E5':'E05', 'E6':'E06', 'E7':'E07', 'E8':'E08', 'E9':'E09', 'F1':'F01', 'F2':'F02', 'F3':'F03', 'F4':'F04', 'F5':'F05', 'F6':'F06', 'F7':'F07', 'F8':'F08', 'F9':'F09', 'G1':'G01', 'G2':'G02', 'G3':'G03', 'G4':'G04', 'G5':'G05', 'G6':'G06', 'G7':'G07', 'G8':'G08', 'G9':'G09', 'H1':'H01', 'H2':'H02', 'H3':'H03', 'H4':'H04', 'H5':'H05', 'H6':'H06', 'H7':'H07', 'H8':'H08', 'H9':'H09'})"
   ]
  },
  {
   "cell_type": "markdown",
   "metadata": {},
   "source": [
    "We then print the corrected well numbers to make sure it worked:"
   ]
  },
  {
   "cell_type": "code",
   "execution_count": 30,
   "metadata": {},
   "outputs": [
    {
     "name": "stdout",
     "output_type": "stream",
     "text": [
      "C03\n",
      "C04\n",
      "C06\n",
      "C05\n",
      "C07\n",
      "C08\n",
      "C09\n",
      "A11\n",
      "A03\n",
      "A04\n",
      "A06\n",
      "A07\n",
      "A08\n",
      "B02\n",
      "B03\n",
      "A12\n",
      "B01\n",
      "B04\n",
      "B05\n",
      "B06\n",
      "B07\n",
      "C10\n",
      "C11\n",
      "C12\n",
      "D01\n",
      "D02\n",
      "D03\n",
      "D04\n",
      "D05\n",
      "D06\n",
      "E04\n",
      "E05\n",
      "E06\n",
      "E07\n",
      "E08\n",
      "A09\n",
      "A10\n",
      "B08\n",
      "B09\n",
      "B10\n",
      "B11\n",
      "B12\n",
      "C01\n",
      "C02\n",
      "D07\n",
      "D08\n",
      "D09\n",
      "D10\n",
      "D11\n",
      "D12\n",
      "E01\n",
      "E02\n",
      "E03\n",
      "E09\n",
      "E10\n",
      "E11\n",
      "E12\n",
      "F01\n",
      "F02\n",
      "F07\n",
      "F08\n",
      "F09\n",
      "F10\n",
      "F11\n",
      "F12\n",
      "G01\n",
      "G02\n",
      "G03\n",
      "G04\n",
      "G05\n",
      "G06\n",
      "G07\n",
      "G08\n",
      "G09\n",
      "G10\n",
      "G11\n",
      "H01\n",
      "H02\n",
      "H03\n",
      "H04\n",
      "H05\n",
      "H06\n",
      "H07\n",
      "H08\n",
      "H09\n",
      "H10\n",
      "H11\n",
      "A01\n",
      "A02\n",
      "A05\n",
      "F03\n",
      "F04\n",
      "F05\n",
      "F06\n"
     ]
    }
   ],
   "source": [
    "print(corrected_df.tissueWell.to_string(index=False))"
   ]
  },
  {
   "cell_type": "markdown",
   "metadata": {},
   "source": [
    "##### Then we save it as a new excel or csv file. Make sure to change the file name to something you will recognize. "
   ]
  },
  {
   "cell_type": "code",
   "execution_count": 31,
   "metadata": {},
   "outputs": [],
   "source": [
    "corrected_df.to_excel('Trichoptera_P05_2019.07.05.xlsx', index=False)"
   ]
  }
 ],
 "metadata": {
  "kernelspec": {
   "display_name": "Python 3",
   "language": "python",
   "name": "python3"
  },
  "language_info": {
   "codemirror_mode": {
    "name": "ipython",
    "version": 3
   },
   "file_extension": ".py",
   "mimetype": "text/x-python",
   "name": "python",
   "nbconvert_exporter": "python",
   "pygments_lexer": "ipython3",
   "version": "3.7.4"
  }
 },
 "nbformat": 4,
 "nbformat_minor": 2
}
