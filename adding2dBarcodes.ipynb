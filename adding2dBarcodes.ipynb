{
 "cells": [
  {
   "cell_type": "markdown",
   "metadata": {},
   "source": [
    "#### This script will add 2D barcodes to your geome FIMS. It is written to pull the data from a BiSciCol FIMS sheet so pay attention to column names if you are pulling it from another spreadsheet."
   ]
  },
  {
   "cell_type": "code",
   "execution_count": 1,
   "metadata": {},
   "outputs": [],
   "source": [
    "import pandas as pd"
   ]
  },
  {
   "cell_type": "markdown",
   "metadata": {},
   "source": [
    "Import your geome spreadsheet (preferably downloaded directly from the geome site): "
   ]
  },
  {
   "cell_type": "code",
   "execution_count": 2,
   "metadata": {},
   "outputs": [],
   "source": [
    "geomeDownload = pd.read_excel('Djibouti16_P01.xlsx', sheet_name = 'Samples')"
   ]
  },
  {
   "cell_type": "markdown",
   "metadata": {},
   "source": [
    "Import your other spreadsheet:"
   ]
  },
  {
   "cell_type": "code",
   "execution_count": 15,
   "metadata": {},
   "outputs": [],
   "source": [
    "oldFims = pd.read_excel('../Djibouti16_P01_082817_UpdatedandUploaded.xlsx', dtype={'extractionBarcode':str})"
   ]
  },
  {
   "cell_type": "markdown",
   "metadata": {},
   "source": [
    "Keep only the relevant columns from the non-geome spreadsheet:"
   ]
  },
  {
   "cell_type": "code",
   "execution_count": 4,
   "metadata": {},
   "outputs": [
    {
     "name": "stdout",
     "output_type": "stream",
     "text": [
      "<class 'pandas.core.frame.DataFrame'>\n",
      "RangeIndex: 93 entries, 0 to 92\n",
      "Data columns (total 2 columns):\n",
      "catalogNumber        93 non-null int64\n",
      "extractionBarcode    93 non-null object\n",
      "dtypes: int64(1), object(1)\n",
      "memory usage: 1.6+ KB\n"
     ]
    }
   ],
   "source": [
    "oldFims = pd.DataFrame(oldFims, columns = ['catalogNumber', 'extractionBarcode'])\n",
    "oldFims.info()"
   ]
  },
  {
   "cell_type": "markdown",
   "metadata": {},
   "source": [
    "Merge them together, keeping all the data from the geome spreadsheet (in case any data is missing from the other one):"
   ]
  },
  {
   "cell_type": "code",
   "execution_count": 6,
   "metadata": {},
   "outputs": [
    {
     "name": "stdout",
     "output_type": "stream",
     "text": [
      "<class 'pandas.core.frame.DataFrame'>\n",
      "Int64Index: 18 entries, 0 to 17\n",
      "Data columns (total 56 columns):\n",
      "materialSampleID             18 non-null object\n",
      "institutionCode              18 non-null object\n",
      "kingdom                      18 non-null object\n",
      "phylum                       18 non-null object\n",
      "scientificName               18 non-null object\n",
      "yearCollected                18 non-null int64\n",
      "locality                     18 non-null object\n",
      "country                      18 non-null object\n",
      "tissuePlate                  18 non-null object\n",
      "tissueWell                   18 non-null object\n",
      "tissueType                   0 non-null float64\n",
      "collectionCode               18 non-null object\n",
      "catalogNumber                18 non-null int64\n",
      "class                        18 non-null object\n",
      "order                        18 non-null object\n",
      "family                       18 non-null object\n",
      "genus                        18 non-null object\n",
      "specificEpithet              18 non-null object\n",
      "infraspecificEpithet         0 non-null float64\n",
      "dayIdentified                0 non-null float64\n",
      "monthIdentified              0 non-null float64\n",
      "yearIdentified               0 non-null float64\n",
      "establishmentMeans           0 non-null float64\n",
      "sex                          0 non-null float64\n",
      "subClass                     0 non-null float64\n",
      "subFamily                    0 non-null float64\n",
      "taxonRemarks                 0 non-null float64\n",
      "voucherCatalogNumber         18 non-null object\n",
      "lifeStage                    0 non-null float64\n",
      "identifiedBy                 0 non-null float64\n",
      "associatedMedia              0 non-null float64\n",
      "fieldNumber                  0 non-null float64\n",
      "genbankSpecimenVoucher       0 non-null float64\n",
      "boldProcessID                0 non-null float64\n",
      "samplingProtocol             0 non-null float64\n",
      "collectorList                0 non-null float64\n",
      "county                       0 non-null float64\n",
      "dayCollected                 18 non-null int64\n",
      "monthCollected               18 non-null int64\n",
      "decimalLatitude              18 non-null float64\n",
      "decimalLongitude             18 non-null float64\n",
      "habitat                      0 non-null float64\n",
      "municipality                 0 non-null float64\n",
      "permitInformation            0 non-null float64\n",
      "stateProvince                0 non-null float64\n",
      "tissueID                     18 non-null object\n",
      "tissueBarcode                18 non-null object\n",
      "associatedSequences          0 non-null float64\n",
      "tissuePreservative           0 non-null float64\n",
      "tissueInstitution            0 non-null float64\n",
      "tissueOtherCatalogNumbers    0 non-null float64\n",
      "Sample_bcid                  18 non-null object\n",
      "Tissue_bcid                  18 non-null object\n",
      "expeditionCode               18 non-null object\n",
      "projectId                    18 non-null int64\n",
      "extractionBarcode            18 non-null object\n",
      "dtypes: float64(29), int64(5), object(22)\n",
      "memory usage: 8.0+ KB\n"
     ]
    }
   ],
   "source": [
    "merged = pd.merge(left = geomeDownload, right = oldFims, on = 'catalogNumber')\n",
    "merged.info()"
   ]
  },
  {
   "cell_type": "markdown",
   "metadata": {},
   "source": [
    "Drop all the blank columns from the merged dataset:"
   ]
  },
  {
   "cell_type": "code",
   "execution_count": 8,
   "metadata": {},
   "outputs": [
    {
     "name": "stdout",
     "output_type": "stream",
     "text": [
      "<class 'pandas.core.frame.DataFrame'>\n",
      "Int64Index: 18 entries, 0 to 17\n",
      "Data columns (total 29 columns):\n",
      "materialSampleID        18 non-null object\n",
      "institutionCode         18 non-null object\n",
      "kingdom                 18 non-null object\n",
      "phylum                  18 non-null object\n",
      "scientificName          18 non-null object\n",
      "yearCollected           18 non-null int64\n",
      "locality                18 non-null object\n",
      "country                 18 non-null object\n",
      "tissuePlate             18 non-null object\n",
      "tissueWell              18 non-null object\n",
      "collectionCode          18 non-null object\n",
      "catalogNumber           18 non-null int64\n",
      "class                   18 non-null object\n",
      "order                   18 non-null object\n",
      "family                  18 non-null object\n",
      "genus                   18 non-null object\n",
      "specificEpithet         18 non-null object\n",
      "voucherCatalogNumber    18 non-null object\n",
      "dayCollected            18 non-null int64\n",
      "monthCollected          18 non-null int64\n",
      "decimalLatitude         18 non-null float64\n",
      "decimalLongitude        18 non-null float64\n",
      "tissueID                18 non-null object\n",
      "tissueBarcode           18 non-null object\n",
      "Sample_bcid             18 non-null object\n",
      "Tissue_bcid             18 non-null object\n",
      "expeditionCode          18 non-null object\n",
      "projectId               18 non-null int64\n",
      "extractionBarcode       18 non-null object\n",
      "dtypes: float64(2), int64(5), object(22)\n",
      "memory usage: 4.2+ KB\n"
     ]
    }
   ],
   "source": [
    "merged = merged.dropna(axis = 1, how = 'all')\n",
    "merged.info()"
   ]
  },
  {
   "cell_type": "markdown",
   "metadata": {},
   "source": [
    "Rename the 2D barcode column to the matching geome column header (tissueOtherCatalogNumbers) if necessary:"
   ]
  },
  {
   "cell_type": "code",
   "execution_count": 10,
   "metadata": {},
   "outputs": [
    {
     "name": "stdout",
     "output_type": "stream",
     "text": [
      "<class 'pandas.core.frame.DataFrame'>\n",
      "Int64Index: 18 entries, 0 to 17\n",
      "Data columns (total 29 columns):\n",
      "materialSampleID             18 non-null object\n",
      "institutionCode              18 non-null object\n",
      "kingdom                      18 non-null object\n",
      "phylum                       18 non-null object\n",
      "scientificName               18 non-null object\n",
      "yearCollected                18 non-null int64\n",
      "locality                     18 non-null object\n",
      "country                      18 non-null object\n",
      "tissuePlate                  18 non-null object\n",
      "tissueWell                   18 non-null object\n",
      "collectionCode               18 non-null object\n",
      "catalogNumber                18 non-null int64\n",
      "class                        18 non-null object\n",
      "order                        18 non-null object\n",
      "family                       18 non-null object\n",
      "genus                        18 non-null object\n",
      "specificEpithet              18 non-null object\n",
      "voucherCatalogNumber         18 non-null object\n",
      "dayCollected                 18 non-null int64\n",
      "monthCollected               18 non-null int64\n",
      "decimalLatitude              18 non-null float64\n",
      "decimalLongitude             18 non-null float64\n",
      "tissueID                     18 non-null object\n",
      "tissueBarcode                18 non-null object\n",
      "Sample_bcid                  18 non-null object\n",
      "Tissue_bcid                  18 non-null object\n",
      "expeditionCode               18 non-null object\n",
      "projectId                    18 non-null int64\n",
      "tissueOtherCatalogNumbers    18 non-null object\n",
      "dtypes: float64(2), int64(5), object(22)\n",
      "memory usage: 4.2+ KB\n"
     ]
    }
   ],
   "source": [
    "merged.rename(columns={\"extractionBarcode\": \"tissueOtherCatalogNumbers\"}, inplace = True)\n",
    "merged.info()"
   ]
  },
  {
   "cell_type": "markdown",
   "metadata": {},
   "source": [
    "Save it as a spreadsheet ready to upload to geome (make sure to change the name!):"
   ]
  },
  {
   "cell_type": "code",
   "execution_count": 12,
   "metadata": {},
   "outputs": [],
   "source": [
    "merged.to_excel('FY14_TimorHerps_P07_2020May19.xlsx', index = False, sheet_name = 'Samples')"
   ]
  },
  {
   "cell_type": "code",
   "execution_count": null,
   "metadata": {},
   "outputs": [],
   "source": []
  }
 ],
 "metadata": {
  "kernelspec": {
   "display_name": "Python 3",
   "language": "python",
   "name": "python3"
  },
  "language_info": {
   "codemirror_mode": {
    "name": "ipython",
    "version": 3
   },
   "file_extension": ".py",
   "mimetype": "text/x-python",
   "name": "python",
   "nbconvert_exporter": "python",
   "pygments_lexer": "ipython3",
   "version": "3.7.4"
  }
 },
 "nbformat": 4,
 "nbformat_minor": 2
}
