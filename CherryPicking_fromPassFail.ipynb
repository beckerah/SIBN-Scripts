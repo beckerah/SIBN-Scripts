{
 "cells": [
  {
   "cell_type": "markdown",
   "metadata": {},
   "source": [
    "### This script will build your redo list from a Geneious export (specifically the tabular plate view of your cycle sequence plate) and build a new FIMS sheet for your reference."
   ]
  },
  {
   "cell_type": "markdown",
   "metadata": {},
   "source": [
    "Make sure you are only exporting Geneious data from either the forward or reverse plates - not both. (Otherwise there will be duplicates.) Note: You will need to have passed all of your good sequences before exporting this data from Geneious."
   ]
  },
  {
   "cell_type": "code",
   "execution_count": 1,
   "metadata": {},
   "outputs": [],
   "source": [
    "import pandas as pd"
   ]
  },
  {
   "cell_type": "markdown",
   "metadata": {},
   "source": [
    "Enter the name of your Geneious export file inside the (' ') below:"
   ]
  },
  {
   "cell_type": "code",
   "execution_count": 2,
   "metadata": {},
   "outputs": [
    {
     "name": "stdout",
     "output_type": "stream",
     "text": [
      "<class 'pandas.core.frame.DataFrame'>\n",
      "RangeIndex: 192 entries, 0 to 191\n",
      "Data columns (total 20 columns):\n",
      "Plate                 192 non-null object\n",
      "Well                  192 non-null object\n",
      "GELImage              0 non-null float64\n",
      "Extraction Barcode    192 non-null int64\n",
      "Extraction ID         192 non-null object\n",
      "Workflow ID           192 non-null object\n",
      "Locus                 192 non-null object\n",
      "Date                  192 non-null object\n",
      "Reaction state        192 non-null object\n",
      "Primer                192 non-null object\n",
      "Direction             192 non-null object\n",
      "Reaction Cocktail     192 non-null object\n",
      "Cleanup performed     192 non-null object\n",
      "Cleanup method        192 non-null object\n",
      "Technician            192 non-null object\n",
      "notes                 192 non-null object\n",
      "Extraction BCID       0 non-null float64\n",
      "# Traces              192 non-null int64\n",
      "# Passed Sequences    192 non-null int64\n",
      "# Sequences           192 non-null int64\n",
      "dtypes: float64(2), int64(4), object(14)\n",
      "memory usage: 30.1+ KB\n"
     ]
    }
   ],
   "source": [
    "Geneious_df = pd.read_csv('CapeVerdeP06SeqGeneiousExport.csv')\n",
    "Geneious_df.info()"
   ]
  },
  {
   "cell_type": "markdown",
   "metadata": {},
   "source": [
    "Enter the name of your FIMS file inside the (' ') below:"
   ]
  },
  {
   "cell_type": "code",
   "execution_count": 3,
   "metadata": {},
   "outputs": [
    {
     "name": "stdout",
     "output_type": "stream",
     "text": [
      "<class 'pandas.core.frame.DataFrame'>\n",
      "RangeIndex: 96 entries, 0 to 95\n",
      "Data columns (total 22 columns):\n",
      "materialSampleID             96 non-null object\n",
      "institutionCode              96 non-null object\n",
      "kingdom                      96 non-null object\n",
      "phylum                       96 non-null object\n",
      "scientificName               96 non-null object\n",
      "yearCollected                96 non-null int64\n",
      "locality                     96 non-null object\n",
      "country                      96 non-null object\n",
      "tissuePlate                  96 non-null object\n",
      "tissueWell                   96 non-null object\n",
      "tissueType                   96 non-null object\n",
      "collectionCode               96 non-null object\n",
      "taxonRemarks                 4 non-null object\n",
      "catalogNumber                96 non-null int64\n",
      "voucherCatalogNumber         96 non-null object\n",
      "identifiedBy                 96 non-null object\n",
      "genbankSpecimenVoucher       96 non-null object\n",
      "samplingProtocol             96 non-null object\n",
      "dayCollected                 96 non-null int64\n",
      "monthCollected               96 non-null int64\n",
      "tissueOtherCatalogNumbers    96 non-null int64\n",
      "tissuePreservative           96 non-null object\n",
      "dtypes: int64(5), object(17)\n",
      "memory usage: 16.6+ KB\n"
     ]
    }
   ],
   "source": [
    "FIMS_df = pd.read_excel('FY18CapeVerde_P06.xlsx', sheet_name='Samples')\n",
    "FIMS_df.info()"
   ]
  },
  {
   "cell_type": "markdown",
   "metadata": {},
   "source": [
    "Geneious does not use a two-digit well number value, so we run the following portion of the script to normalize this value between the Geneious export and the FIMS. "
   ]
  },
  {
   "cell_type": "code",
   "execution_count": 4,
   "metadata": {},
   "outputs": [],
   "source": [
    "wellCorrection = {'A1':'A01', 'A2':'A02', 'A3':'A03', 'A4':'A04', 'A5':'A05', 'A6':'A06', 'A7':'A07', \n",
    "                  'A8':'A08', 'A9':'A09', 'B1':'B01', 'B2':'B02', 'B3':'B03', 'B4':'B04', 'B5':'B05', \n",
    "                  'B6':'B06', 'B7':'B07', 'B8':'B08', 'B9':'B09', 'C1':'C01', 'C2':'C02', 'C3':'C03', \n",
    "                  'C4':'C04', 'C5':'C05', 'C6':'C06', 'C7':'C07', 'C8':'C08', 'C9':'C09', 'D1':'D01', \n",
    "                  'D2':'D02', 'D3':'D03', 'D4':'D04', 'D5':'D05', 'D6':'D06', 'D7':'D07', 'D8':'D08', \n",
    "                  'D9':'D09', 'E1':'E01', 'E2':'E02', 'E3':'E03', 'E4':'E04', 'E5':'E05', 'E6':'E06', \n",
    "                  'E7':'E07', 'E8':'E08', 'E9':'E09', 'F1':'F01', 'F2':'F02', 'F3':'F03', 'F4':'F04', \n",
    "                  'F5':'F05', 'F6':'F06', 'F7':'F07', 'F8':'F08', 'F9':'F09', 'G1':'G01', 'G2':'G02', \n",
    "                  'G3':'G03', 'G4':'G04', 'G5':'G05', 'G6':'G06', 'G7':'G07', 'G8':'G08', 'G9':'G09', \n",
    "                  'H1':'H01', 'H2':'H02', 'H3':'H03', 'H4':'H04', 'H5':'H05', 'H6':'H06', 'H7':'H07', \n",
    "                  'H8':'H08', 'H9':'H09'}"
   ]
  },
  {
   "cell_type": "code",
   "execution_count": 9,
   "metadata": {},
   "outputs": [
    {
     "data": {
      "text/html": [
       "<div>\n",
       "<style scoped>\n",
       "    .dataframe tbody tr th:only-of-type {\n",
       "        vertical-align: middle;\n",
       "    }\n",
       "\n",
       "    .dataframe tbody tr th {\n",
       "        vertical-align: top;\n",
       "    }\n",
       "\n",
       "    .dataframe thead th {\n",
       "        text-align: right;\n",
       "    }\n",
       "</style>\n",
       "<table border=\"1\" class=\"dataframe\">\n",
       "  <thead>\n",
       "    <tr style=\"text-align: right;\">\n",
       "      <th></th>\n",
       "      <th>Plate</th>\n",
       "      <th>Well</th>\n",
       "      <th>GELImage</th>\n",
       "      <th>Extraction Barcode</th>\n",
       "      <th>Extraction ID</th>\n",
       "      <th>Workflow ID</th>\n",
       "      <th>Locus</th>\n",
       "      <th>Date</th>\n",
       "      <th>Reaction state</th>\n",
       "      <th>Primer</th>\n",
       "      <th>Direction</th>\n",
       "      <th>Reaction Cocktail</th>\n",
       "      <th>Cleanup performed</th>\n",
       "      <th>Cleanup method</th>\n",
       "      <th>Technician</th>\n",
       "      <th>notes</th>\n",
       "      <th>Extraction BCID</th>\n",
       "      <th># Traces</th>\n",
       "      <th># Passed Sequences</th>\n",
       "      <th># Sequences</th>\n",
       "    </tr>\n",
       "  </thead>\n",
       "  <tbody>\n",
       "    <tr>\n",
       "      <td>0</td>\n",
       "      <td>CapeVerde_P06_Seq01_dgjg_F</td>\n",
       "      <td>A01</td>\n",
       "      <td>NaN</td>\n",
       "      <td>302217688</td>\n",
       "      <td>USNM:IZ:1524467.1.1</td>\n",
       "      <td>COI_workflow205675</td>\n",
       "      <td>COI</td>\n",
       "      <td>Mon May 20 00:00:00 EDT 2019</td>\n",
       "      <td>passed</td>\n",
       "      <td>jgLCO1490</td>\n",
       "      <td>Forward</td>\n",
       "      <td>standard</td>\n",
       "      <td>Yes</td>\n",
       "      <td>Sephadex</td>\n",
       "      <td>Allison</td>\n",
       "      <td>Cleanup performed May 21st. \\n6 wells cherry p...</td>\n",
       "      <td>NaN</td>\n",
       "      <td>1</td>\n",
       "      <td>1</td>\n",
       "      <td>1</td>\n",
       "    </tr>\n",
       "    <tr>\n",
       "      <td>1</td>\n",
       "      <td>CapeVerde_P06_Seq01_dgjg_F</td>\n",
       "      <td>A02</td>\n",
       "      <td>NaN</td>\n",
       "      <td>302217696</td>\n",
       "      <td>USNM:IZ:1524475.1.2</td>\n",
       "      <td>COI_workflow205676</td>\n",
       "      <td>COI</td>\n",
       "      <td>Mon May 20 00:00:00 EDT 2019</td>\n",
       "      <td>failed</td>\n",
       "      <td>jgLCO1490</td>\n",
       "      <td>Forward</td>\n",
       "      <td>standard</td>\n",
       "      <td>Yes</td>\n",
       "      <td>Sephadex</td>\n",
       "      <td>Allison</td>\n",
       "      <td>Cleanup performed May 21st. \\n6 wells cherry p...</td>\n",
       "      <td>NaN</td>\n",
       "      <td>1</td>\n",
       "      <td>0</td>\n",
       "      <td>1</td>\n",
       "    </tr>\n",
       "    <tr>\n",
       "      <td>2</td>\n",
       "      <td>CapeVerde_P06_Seq01_dgjg_F</td>\n",
       "      <td>A03</td>\n",
       "      <td>NaN</td>\n",
       "      <td>302217704</td>\n",
       "      <td>USNM:IZ:1524484.1.2</td>\n",
       "      <td>COI_workflow205677</td>\n",
       "      <td>COI</td>\n",
       "      <td>Mon May 20 00:00:00 EDT 2019</td>\n",
       "      <td>failed</td>\n",
       "      <td>jgLCO1490</td>\n",
       "      <td>Forward</td>\n",
       "      <td>standard</td>\n",
       "      <td>Yes</td>\n",
       "      <td>Sephadex</td>\n",
       "      <td>Allison</td>\n",
       "      <td>Cleanup performed May 21st. \\n6 wells cherry p...</td>\n",
       "      <td>NaN</td>\n",
       "      <td>1</td>\n",
       "      <td>0</td>\n",
       "      <td>1</td>\n",
       "    </tr>\n",
       "    <tr>\n",
       "      <td>3</td>\n",
       "      <td>CapeVerde_P06_Seq01_dgjg_F</td>\n",
       "      <td>A04</td>\n",
       "      <td>NaN</td>\n",
       "      <td>302217712</td>\n",
       "      <td>USNM:IZ:1524493.1.2</td>\n",
       "      <td>COI_workflow205678</td>\n",
       "      <td>COI</td>\n",
       "      <td>Mon May 20 00:00:00 EDT 2019</td>\n",
       "      <td>failed</td>\n",
       "      <td>jgLCO1490</td>\n",
       "      <td>Forward</td>\n",
       "      <td>standard</td>\n",
       "      <td>Yes</td>\n",
       "      <td>Sephadex</td>\n",
       "      <td>Allison</td>\n",
       "      <td>Cleanup performed May 21st. \\n6 wells cherry p...</td>\n",
       "      <td>NaN</td>\n",
       "      <td>1</td>\n",
       "      <td>0</td>\n",
       "      <td>1</td>\n",
       "    </tr>\n",
       "    <tr>\n",
       "      <td>4</td>\n",
       "      <td>CapeVerde_P06_Seq01_dgjg_F</td>\n",
       "      <td>A05</td>\n",
       "      <td>NaN</td>\n",
       "      <td>302217720</td>\n",
       "      <td>USNM:IZ:1524507.1.1</td>\n",
       "      <td>COI_workflow205679</td>\n",
       "      <td>COI</td>\n",
       "      <td>Mon May 20 00:00:00 EDT 2019</td>\n",
       "      <td>failed</td>\n",
       "      <td>jgLCO1490</td>\n",
       "      <td>Forward</td>\n",
       "      <td>standard</td>\n",
       "      <td>Yes</td>\n",
       "      <td>Sephadex</td>\n",
       "      <td>Allison</td>\n",
       "      <td>Cleanup performed May 21st. \\n6 wells cherry p...</td>\n",
       "      <td>NaN</td>\n",
       "      <td>1</td>\n",
       "      <td>0</td>\n",
       "      <td>1</td>\n",
       "    </tr>\n",
       "  </tbody>\n",
       "</table>\n",
       "</div>"
      ],
      "text/plain": [
       "                        Plate Well  GELImage  Extraction Barcode  \\\n",
       "0  CapeVerde_P06_Seq01_dgjg_F  A01       NaN           302217688   \n",
       "1  CapeVerde_P06_Seq01_dgjg_F  A02       NaN           302217696   \n",
       "2  CapeVerde_P06_Seq01_dgjg_F  A03       NaN           302217704   \n",
       "3  CapeVerde_P06_Seq01_dgjg_F  A04       NaN           302217712   \n",
       "4  CapeVerde_P06_Seq01_dgjg_F  A05       NaN           302217720   \n",
       "\n",
       "         Extraction ID         Workflow ID Locus  \\\n",
       "0  USNM:IZ:1524467.1.1  COI_workflow205675   COI   \n",
       "1  USNM:IZ:1524475.1.2  COI_workflow205676   COI   \n",
       "2  USNM:IZ:1524484.1.2  COI_workflow205677   COI   \n",
       "3  USNM:IZ:1524493.1.2  COI_workflow205678   COI   \n",
       "4  USNM:IZ:1524507.1.1  COI_workflow205679   COI   \n",
       "\n",
       "                           Date Reaction state     Primer Direction  \\\n",
       "0  Mon May 20 00:00:00 EDT 2019         passed  jgLCO1490   Forward   \n",
       "1  Mon May 20 00:00:00 EDT 2019         failed  jgLCO1490   Forward   \n",
       "2  Mon May 20 00:00:00 EDT 2019         failed  jgLCO1490   Forward   \n",
       "3  Mon May 20 00:00:00 EDT 2019         failed  jgLCO1490   Forward   \n",
       "4  Mon May 20 00:00:00 EDT 2019         failed  jgLCO1490   Forward   \n",
       "\n",
       "  Reaction Cocktail Cleanup performed Cleanup method Technician  \\\n",
       "0          standard               Yes       Sephadex    Allison   \n",
       "1          standard               Yes       Sephadex    Allison   \n",
       "2          standard               Yes       Sephadex    Allison   \n",
       "3          standard               Yes       Sephadex    Allison   \n",
       "4          standard               Yes       Sephadex    Allison   \n",
       "\n",
       "                                               notes  Extraction BCID  \\\n",
       "0  Cleanup performed May 21st. \\n6 wells cherry p...              NaN   \n",
       "1  Cleanup performed May 21st. \\n6 wells cherry p...              NaN   \n",
       "2  Cleanup performed May 21st. \\n6 wells cherry p...              NaN   \n",
       "3  Cleanup performed May 21st. \\n6 wells cherry p...              NaN   \n",
       "4  Cleanup performed May 21st. \\n6 wells cherry p...              NaN   \n",
       "\n",
       "   # Traces  # Passed Sequences  # Sequences  \n",
       "0         1                   1            1  \n",
       "1         1                   0            1  \n",
       "2         1                   0            1  \n",
       "3         1                   0            1  \n",
       "4         1                   0            1  "
      ]
     },
     "execution_count": 9,
     "metadata": {},
     "output_type": "execute_result"
    }
   ],
   "source": [
    "Geneious_df[\"Well\"].replace(wellCorrection, inplace=True)\n",
    "Geneious_df.head()"
   ]
  },
  {
   "cell_type": "markdown",
   "metadata": {},
   "source": [
    "This next part will pull out all the wells from the Geneious export that are not marked as \"passed\":"
   ]
  },
  {
   "cell_type": "code",
   "execution_count": 10,
   "metadata": {},
   "outputs": [
    {
     "name": "stdout",
     "output_type": "stream",
     "text": [
      "<class 'pandas.core.frame.DataFrame'>\n",
      "Int64Index: 122 entries, 1 to 191\n",
      "Data columns (total 20 columns):\n",
      "Plate                 122 non-null object\n",
      "Well                  122 non-null object\n",
      "GELImage              0 non-null float64\n",
      "Extraction Barcode    122 non-null int64\n",
      "Extraction ID         122 non-null object\n",
      "Workflow ID           122 non-null object\n",
      "Locus                 122 non-null object\n",
      "Date                  122 non-null object\n",
      "Reaction state        122 non-null object\n",
      "Primer                122 non-null object\n",
      "Direction             122 non-null object\n",
      "Reaction Cocktail     122 non-null object\n",
      "Cleanup performed     122 non-null object\n",
      "Cleanup method        122 non-null object\n",
      "Technician            122 non-null object\n",
      "notes                 122 non-null object\n",
      "Extraction BCID       0 non-null float64\n",
      "# Traces              122 non-null int64\n",
      "# Passed Sequences    122 non-null int64\n",
      "# Sequences           122 non-null int64\n",
      "dtypes: float64(2), int64(4), object(14)\n",
      "memory usage: 20.0+ KB\n"
     ]
    }
   ],
   "source": [
    "redos_df = Geneious_df[Geneious_df['Reaction state']!='passed']\n",
    "redos_df.info()"
   ]
  },
  {
   "cell_type": "markdown",
   "metadata": {},
   "source": [
    "This will merge the non-passed wells with the information from the FIMS:"
   ]
  },
  {
   "cell_type": "code",
   "execution_count": 11,
   "metadata": {},
   "outputs": [
    {
     "name": "stdout",
     "output_type": "stream",
     "text": [
      "<class 'pandas.core.frame.DataFrame'>\n",
      "Int64Index: 122 entries, 0 to 121\n",
      "Data columns (total 42 columns):\n",
      "materialSampleID             122 non-null object\n",
      "institutionCode              122 non-null object\n",
      "kingdom                      122 non-null object\n",
      "phylum                       122 non-null object\n",
      "scientificName               122 non-null object\n",
      "yearCollected                122 non-null int64\n",
      "locality                     122 non-null object\n",
      "country                      122 non-null object\n",
      "tissuePlate                  122 non-null object\n",
      "tissueWell                   122 non-null object\n",
      "tissueType                   122 non-null object\n",
      "collectionCode               122 non-null object\n",
      "taxonRemarks                 6 non-null object\n",
      "catalogNumber                122 non-null int64\n",
      "voucherCatalogNumber         122 non-null object\n",
      "identifiedBy                 122 non-null object\n",
      "genbankSpecimenVoucher       122 non-null object\n",
      "samplingProtocol             122 non-null object\n",
      "dayCollected                 122 non-null int64\n",
      "monthCollected               122 non-null int64\n",
      "tissueOtherCatalogNumbers    122 non-null int64\n",
      "tissuePreservative           122 non-null object\n",
      "Plate                        122 non-null object\n",
      "Well                         122 non-null object\n",
      "GELImage                     0 non-null float64\n",
      "Extraction Barcode           122 non-null int64\n",
      "Extraction ID                122 non-null object\n",
      "Workflow ID                  122 non-null object\n",
      "Locus                        122 non-null object\n",
      "Date                         122 non-null object\n",
      "Reaction state               122 non-null object\n",
      "Primer                       122 non-null object\n",
      "Direction                    122 non-null object\n",
      "Reaction Cocktail            122 non-null object\n",
      "Cleanup performed            122 non-null object\n",
      "Cleanup method               122 non-null object\n",
      "Technician                   122 non-null object\n",
      "notes                        122 non-null object\n",
      "Extraction BCID              0 non-null float64\n",
      "# Traces                     122 non-null int64\n",
      "# Passed Sequences           122 non-null int64\n",
      "# Sequences                  122 non-null int64\n",
      "dtypes: float64(2), int64(9), object(31)\n",
      "memory usage: 41.0+ KB\n"
     ]
    }
   ],
   "source": [
    "redosWithFIMS_df = FIMS_df.merge(redos_df, how='right', left_on='tissueOtherCatalogNumbers', \n",
    "                                 right_on='Extraction Barcode')\n",
    "redosWithFIMS_df.info()"
   ]
  },
  {
   "cell_type": "markdown",
   "metadata": {},
   "source": [
    "Now we check to make sure the data looks like it's been merged successfully, by checking that the Well values are in the same order."
   ]
  },
  {
   "cell_type": "code",
   "execution_count": 13,
   "metadata": {},
   "outputs": [
    {
     "name": "stdout",
     "output_type": "stream",
     "text": [
      "    Well tissueWell\n",
      "0    B01        B01\n",
      "1    B01        B01\n",
      "2    C01        C01\n",
      "3    C01        C01\n",
      "4    D01        D01\n",
      "..   ...        ...\n",
      "117  C12        C12\n",
      "118  G12        G12\n",
      "119  G12        G12\n",
      "120  H12        H12\n",
      "121  H12        H12\n",
      "\n",
      "[122 rows x 2 columns]\n"
     ]
    }
   ],
   "source": [
    "wellValidation_df = redosWithFIMS_df[['Well','tissueWell']]\n",
    "print(wellValidation_df)"
   ]
  },
  {
   "cell_type": "markdown",
   "metadata": {},
   "source": [
    "And finally we save the output to an Excel spreadsheet."
   ]
  },
  {
   "cell_type": "code",
   "execution_count": 14,
   "metadata": {},
   "outputs": [],
   "source": [
    "redosWithFIMS_df.to_excel('Redos.xlsx', index=False)"
   ]
  },
  {
   "cell_type": "code",
   "execution_count": null,
   "metadata": {},
   "outputs": [],
   "source": []
  }
 ],
 "metadata": {
  "kernelspec": {
   "display_name": "Python 3",
   "language": "python",
   "name": "python3"
  },
  "language_info": {
   "codemirror_mode": {
    "name": "ipython",
    "version": 3
   },
   "file_extension": ".py",
   "mimetype": "text/x-python",
   "name": "python",
   "nbconvert_exporter": "python",
   "pygments_lexer": "ipython3",
   "version": "3.7.4"
  }
 },
 "nbformat": 4,
 "nbformat_minor": 2
}
